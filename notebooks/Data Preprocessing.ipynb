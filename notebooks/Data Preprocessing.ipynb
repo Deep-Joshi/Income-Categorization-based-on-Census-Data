{
 "cells": [
  {
   "cell_type": "code",
   "execution_count": 6,
   "metadata": {},
   "outputs": [],
   "source": [
    "#Importing Base Libraries\n",
    "import numpy as np\n",
    "import pandas as pd \n",
    "import matplotlib.pyplot as plt\n",
    "import seaborn as sns\n",
    "%matplotlib inline"
   ]
  },
  {
   "cell_type": "code",
   "execution_count": 7,
   "metadata": {},
   "outputs": [
    {
     "data": {
      "text/html": [
       "<div>\n",
       "<style scoped>\n",
       "    .dataframe tbody tr th:only-of-type {\n",
       "        vertical-align: middle;\n",
       "    }\n",
       "\n",
       "    .dataframe tbody tr th {\n",
       "        vertical-align: top;\n",
       "    }\n",
       "\n",
       "    .dataframe thead th {\n",
       "        text-align: right;\n",
       "    }\n",
       "</style>\n",
       "<table border=\"1\" class=\"dataframe\">\n",
       "  <thead>\n",
       "    <tr style=\"text-align: right;\">\n",
       "      <th></th>\n",
       "      <th>Age</th>\n",
       "      <th>Work Class</th>\n",
       "      <th>Final Weight</th>\n",
       "      <th>Education</th>\n",
       "      <th>Education Number</th>\n",
       "      <th>Marital Status</th>\n",
       "      <th>Occupation</th>\n",
       "      <th>Relationship</th>\n",
       "      <th>Race</th>\n",
       "      <th>Gender</th>\n",
       "      <th>Capital Gain</th>\n",
       "      <th>Capital Loss</th>\n",
       "      <th>Hours/Week</th>\n",
       "      <th>Counrty</th>\n",
       "      <th>Income</th>\n",
       "    </tr>\n",
       "  </thead>\n",
       "  <tbody>\n",
       "    <tr>\n",
       "      <td>0</td>\n",
       "      <td>19.0</td>\n",
       "      <td>Private</td>\n",
       "      <td>192453</td>\n",
       "      <td>Some-college</td>\n",
       "      <td>562.0</td>\n",
       "      <td>Never-married</td>\n",
       "      <td>Other-service</td>\n",
       "      <td>Other-relative</td>\n",
       "      <td>White</td>\n",
       "      <td>Female</td>\n",
       "      <td>0</td>\n",
       "      <td>0</td>\n",
       "      <td>25.0</td>\n",
       "      <td>United-States</td>\n",
       "      <td>&lt;=50K</td>\n",
       "    </tr>\n",
       "    <tr>\n",
       "      <td>1</td>\n",
       "      <td>26.0</td>\n",
       "      <td>Private</td>\n",
       "      <td>167350</td>\n",
       "      <td>HS-grad</td>\n",
       "      <td>100.0</td>\n",
       "      <td>Never-married</td>\n",
       "      <td>Other-service</td>\n",
       "      <td>Other-relative</td>\n",
       "      <td>White</td>\n",
       "      <td>Male</td>\n",
       "      <td>0</td>\n",
       "      <td>0</td>\n",
       "      <td>30.0</td>\n",
       "      <td>United-States</td>\n",
       "      <td>&lt;=50K</td>\n",
       "    </tr>\n",
       "    <tr>\n",
       "      <td>2</td>\n",
       "      <td>40.0</td>\n",
       "      <td>Private</td>\n",
       "      <td>193524</td>\n",
       "      <td>Doctorate</td>\n",
       "      <td>16.0</td>\n",
       "      <td>Married-civ-spouse</td>\n",
       "      <td>Prof-specialty</td>\n",
       "      <td>Husband</td>\n",
       "      <td>White</td>\n",
       "      <td>Male</td>\n",
       "      <td>0</td>\n",
       "      <td>0</td>\n",
       "      <td>60.0</td>\n",
       "      <td>United-States</td>\n",
       "      <td>&gt;50K</td>\n",
       "    </tr>\n",
       "    <tr>\n",
       "      <td>3</td>\n",
       "      <td>42.0</td>\n",
       "      <td>Private</td>\n",
       "      <td>116632</td>\n",
       "      <td>Doctorate</td>\n",
       "      <td>16.0</td>\n",
       "      <td>Married-civ-spouse</td>\n",
       "      <td>Prof-specialty</td>\n",
       "      <td>Husband</td>\n",
       "      <td>White</td>\n",
       "      <td>Male</td>\n",
       "      <td>0</td>\n",
       "      <td>0</td>\n",
       "      <td>45.0</td>\n",
       "      <td>United-States</td>\n",
       "      <td>&gt;50K</td>\n",
       "    </tr>\n",
       "    <tr>\n",
       "      <td>4</td>\n",
       "      <td>43.0</td>\n",
       "      <td>Federal-gov</td>\n",
       "      <td>410867</td>\n",
       "      <td>Doctorate</td>\n",
       "      <td>16.0</td>\n",
       "      <td>Never-married</td>\n",
       "      <td>Prof-specialty</td>\n",
       "      <td>Not-in-family</td>\n",
       "      <td>White</td>\n",
       "      <td>Female</td>\n",
       "      <td>0</td>\n",
       "      <td>0</td>\n",
       "      <td>50.0</td>\n",
       "      <td>United-States</td>\n",
       "      <td>&gt;50K</td>\n",
       "    </tr>\n",
       "  </tbody>\n",
       "</table>\n",
       "</div>"
      ],
      "text/plain": [
       "    Age    Work Class Final Weight      Education  Education Number  \\\n",
       "0  19.0       Private       192453   Some-college             562.0   \n",
       "1  26.0       Private       167350        HS-grad             100.0   \n",
       "2  40.0       Private       193524      Doctorate              16.0   \n",
       "3  42.0       Private       116632      Doctorate              16.0   \n",
       "4  43.0   Federal-gov       410867      Doctorate              16.0   \n",
       "\n",
       "        Marital Status       Occupation     Relationship    Race   Gender  \\\n",
       "0        Never-married    Other-service   Other-relative   White   Female   \n",
       "1        Never-married    Other-service   Other-relative   White     Male   \n",
       "2   Married-civ-spouse   Prof-specialty          Husband   White     Male   \n",
       "3   Married-civ-spouse   Prof-specialty          Husband   White     Male   \n",
       "4        Never-married   Prof-specialty    Not-in-family   White   Female   \n",
       "\n",
       "   Capital Gain  Capital Loss  Hours/Week         Counrty  Income  \n",
       "0             0             0        25.0   United-States   <=50K  \n",
       "1             0             0        30.0   United-States   <=50K  \n",
       "2             0             0        60.0   United-States    >50K  \n",
       "3             0             0        45.0   United-States    >50K  \n",
       "4             0             0        50.0   United-States    >50K  "
      ]
     },
     "execution_count": 7,
     "metadata": {},
     "output_type": "execute_result"
    }
   ],
   "source": [
    "#Importing the raw dataset\n",
    "df = pd.read_csv(r'C:\\Users\\Deep Joshi\\Desktop\\Data Analysis\\Machine Learning\\Income Prediction\\data\\raw\\CensusData.csv')\n",
    "df.head()"
   ]
  },
  {
   "cell_type": "code",
   "execution_count": 8,
   "metadata": {},
   "outputs": [
    {
     "name": "stdout",
     "output_type": "stream",
     "text": [
      "<class 'pandas.core.frame.DataFrame'>\n",
      "RangeIndex: 32561 entries, 0 to 32560\n",
      "Data columns (total 15 columns):\n",
      "Age                 32551 non-null float64\n",
      "Work Class          32556 non-null object\n",
      "Final Weight        32553 non-null object\n",
      "Education           32554 non-null object\n",
      "Education Number    32554 non-null float64\n",
      "Marital Status      32561 non-null object\n",
      "Occupation          32559 non-null object\n",
      "Relationship        32561 non-null object\n",
      "Race                32561 non-null object\n",
      "Gender              32561 non-null object\n",
      "Capital Gain        32561 non-null int64\n",
      "Capital Loss        32561 non-null int64\n",
      "Hours/Week          32556 non-null float64\n",
      "Counrty             32561 non-null object\n",
      "Income              32561 non-null object\n",
      "dtypes: float64(3), int64(2), object(10)\n",
      "memory usage: 3.7+ MB\n"
     ]
    }
   ],
   "source": [
    "df.info()"
   ]
  },
  {
   "cell_type": "markdown",
   "metadata": {},
   "source": [
    "# Data Preprocessing \n",
    "## Numerical Attributes\n",
    "### 1. Handling Missing Values"
   ]
  },
  {
   "cell_type": "code",
   "execution_count": 9,
   "metadata": {},
   "outputs": [
    {
     "name": "stdout",
     "output_type": "stream",
     "text": [
      "Age                 10\n",
      "Work Class           5\n",
      "Final Weight         8\n",
      "Education            7\n",
      "Education Number     7\n",
      "Marital Status       0\n",
      "Occupation           2\n",
      "Relationship         0\n",
      "Race                 0\n",
      "Gender               0\n",
      "Capital Gain         0\n",
      "Capital Loss         0\n",
      "Hours/Week           5\n",
      "Counrty              0\n",
      "Income               0\n",
      "dtype: int64\n"
     ]
    }
   ],
   "source": [
    "#Finding total number of missing values within each columns\n",
    "print(df.isnull().sum())"
   ]
  },
  {
   "cell_type": "code",
   "execution_count": 10,
   "metadata": {},
   "outputs": [
    {
     "name": "stdout",
     "output_type": "stream",
     "text": [
      "count    32551.000000\n",
      "mean        38.586802\n",
      "std         13.665623\n",
      "min         17.000000\n",
      "25%         28.000000\n",
      "50%         37.000000\n",
      "75%         48.000000\n",
      "max        164.000000\n",
      "Name: Age, dtype: float64\n"
     ]
    },
    {
     "data": {
      "text/plain": [
       "<matplotlib.axes._subplots.AxesSubplot at 0x1aa813538c8>"
      ]
     },
     "execution_count": 10,
     "metadata": {},
     "output_type": "execute_result"
    },
    {
     "data": {
      "image/png": "[encoded data removed]",
      "text/plain": [
       "<Figure size 432x288 with 1 Axes>"
      ]
     },
     "metadata": {
      "needs_background": "light"
     },
     "output_type": "display_data"
    }
   ],
   "source": [
    "#---------AGE---------------\n",
    "# Descriptive Statistics\n",
    "print(df['Age'].describe())\n",
    "sns.boxplot(y=df['Age'])"
   ]
  },
  {
   "cell_type": "code",
   "execution_count": 11,
   "metadata": {},
   "outputs": [
    {
     "data": {
      "text/plain": [
       "False"
      ]
     },
     "execution_count": 11,
     "metadata": {},
     "output_type": "execute_result"
    }
   ],
   "source": [
    "# Replacing missing values in Age with the mean value\n",
    "df['Age'].fillna(df['Age'].median(),inplace=True)\n",
    "df['Age'].isnull().any()"
   ]
  },
  {
   "cell_type": "code",
   "execution_count": 12,
   "metadata": {},
   "outputs": [
    {
     "name": "stdout",
     "output_type": "stream",
     "text": [
      "count    32416.000000\n",
      "mean        38.379905\n",
      "std         13.328179\n",
      "min         17.000000\n",
      "25%         28.000000\n",
      "50%         37.000000\n",
      "75%         47.000000\n",
      "max         78.000000\n",
      "Name: Age, dtype: float64\n"
     ]
    }
   ],
   "source": [
    "#Outlier Treatment\n",
    "Q1_age = df['Age'].quantile(0.25)\n",
    "Q3_age = df['Age'].quantile(0.75)\n",
    "IQR = Q3_age - Q1_age\n",
    "\n",
    "indexNamesAge = df[ df['Age'] < (Q1_age - 1.5 * IQR) ].index\n",
    "indexNamesAge2 = df[ df['Age'] > (Q3_age + 1.5 * IQR) ].index\n",
    "# Delete these row indexes from dataFrame\n",
    "df.drop(indexNamesAge , inplace=True)\n",
    "df.drop(indexNamesAge2 , inplace=True)\n",
    "\n",
    "print(df['Age'].describe())"
   ]
  },
  {
   "cell_type": "code",
   "execution_count": 13,
   "metadata": {},
   "outputs": [
    {
     "data": {
      "text/plain": [
       "<matplotlib.axes._subplots.AxesSubplot at 0x1aa81825448>"
      ]
     },
     "execution_count": 13,
     "metadata": {},
     "output_type": "execute_result"
    },
    {
     "data": {
      "image/png": "[encoded data removed]",
      "text/plain": [
       "<Figure size 432x288 with 1 Axes>"
      ]
     },
     "metadata": {
      "needs_background": "light"
     },
     "output_type": "display_data"
    }
   ],
   "source": [
    "#Frequency Distribution on AGE \n",
    "sns.distplot(df.Age,kde=False,bins=10)"
   ]
  },
  {
   "cell_type": "code",
   "execution_count": 14,
   "metadata": {},
   "outputs": [
    {
     "data": {
      "text/plain": [
       "count      32408\n",
       "unique     21528\n",
       "top       123011\n",
       "freq          13\n",
       "Name: Final Weight, dtype: object"
      ]
     },
     "execution_count": 14,
     "metadata": {},
     "output_type": "execute_result"
    }
   ],
   "source": [
    "# -------------- Final Weight--------------------\n",
    "# Descriptive Statistics\n",
    "df['Final Weight'].describe() \n",
    "# As we can see, the data type of Final Weight is object where as it contains all numeric values "
   ]
  },
  {
   "cell_type": "code",
   "execution_count": 15,
   "metadata": {},
   "outputs": [
    {
     "name": "stdout",
     "output_type": "stream",
     "text": [
      "count    3.240700e+04\n",
      "mean     1.898755e+05\n",
      "std      1.056074e+05\n",
      "min      1.000000e+00\n",
      "25%      1.178480e+05\n",
      "50%      1.785050e+05\n",
      "75%      2.372825e+05\n",
      "max      1.484705e+06\n",
      "Name: Final Weight, dtype: float64\n"
     ]
    },
    {
     "data": {
      "text/plain": [
       "<matplotlib.axes._subplots.AxesSubplot at 0x1aa818ad108>"
      ]
     },
     "execution_count": 15,
     "metadata": {},
     "output_type": "execute_result"
    },
    {
     "data": {
      "image/png": "[encoded data removed]",
      "text/plain": [
       "<Figure size 432x288 with 1 Axes>"
      ]
     },
     "metadata": {
      "needs_background": "light"
     },
     "output_type": "display_data"
    }
   ],
   "source": [
    "# Converting to Final Weight feature in the data frame to numeric\n",
    "df['Final Weight'] = pd.to_numeric(df['Final Weight'],errors='coerce')\n",
    "print(df['Final Weight'].describe())\n",
    "sns.boxplot(y=df['Final Weight'])\n",
    "# By analyzing the boxplot, we can see that there are many values that fall away from the maximum value allowed (i.e > 1.5*IQR)\n",
    "# We can infer them as suspected outliers. \n",
    "# Since we are dealing with monetary data & according to the feature description, it would not be a great idea to manipulate such values"
   ]
  },
  {
   "cell_type": "code",
   "execution_count": 16,
   "metadata": {},
   "outputs": [
    {
     "data": {
      "text/plain": [
       "False"
      ]
     },
     "execution_count": 16,
     "metadata": {},
     "output_type": "execute_result"
    }
   ],
   "source": [
    "# Replacing missing values in Final Weight with the mean value\n",
    "df['Final Weight'].fillna(df['Final Weight'].mean(),inplace=True)\n",
    "df['Final Weight'].isnull().any()"
   ]
  },
  {
   "cell_type": "code",
   "execution_count": 17,
   "metadata": {},
   "outputs": [
    {
     "data": {
      "text/plain": [
       "<matplotlib.axes._subplots.AxesSubplot at 0x1aa81b56988>"
      ]
     },
     "execution_count": 17,
     "metadata": {},
     "output_type": "execute_result"
    },
    {
     "data": {
      "image/png": "[encoded data removed]",
      "text/plain": [
       "<Figure size 432x288 with 1 Axes>"
      ]
     },
     "metadata": {
      "needs_background": "light"
     },
     "output_type": "display_data"
    }
   ],
   "source": [
    "#Frequency Distribution on FINAL WEIGHT \n",
    "sns.distplot(df['Final Weight'],kde=False,bins=10)"
   ]
  },
  {
   "cell_type": "code",
   "execution_count": 18,
   "metadata": {},
   "outputs": [
    {
     "name": "stdout",
     "output_type": "stream",
     "text": [
      "count    32409.000000\n",
      "mean        10.102996\n",
      "std          4.030257\n",
      "min          1.000000\n",
      "25%          9.000000\n",
      "50%         10.000000\n",
      "75%         12.000000\n",
      "max        562.000000\n",
      "Name: Education Number, dtype: float64\n"
     ]
    },
    {
     "data": {
      "text/plain": [
       "<matplotlib.axes._subplots.AxesSubplot at 0x1aa81f8c708>"
      ]
     },
     "execution_count": 18,
     "metadata": {},
     "output_type": "execute_result"
    },
    {
     "data": {
      "image/png": "[encoded data removed]",
      "text/plain": [
       "<Figure size 432x288 with 1 Axes>"
      ]
     },
     "metadata": {
      "needs_background": "light"
     },
     "output_type": "display_data"
    }
   ],
   "source": [
    "# ----------------- Education Number --------------------\n",
    "# Descriptive Statistics\n",
    "print(df['Education Number'].describe())\n",
    "sns.boxplot(x=df['Education Number'])\n",
    "# By analyzing the boxplot and descriptive stats data, we can see that there are 2 values that fall away from the maximum value allowed (i.e > 1.5*IQR)\n",
    "# We can consider them as outliers and handle them later"
   ]
  },
  {
   "cell_type": "code",
   "execution_count": 20,
   "metadata": {},
   "outputs": [
    {
     "name": "stdout",
     "output_type": "stream",
     "text": [
      "count    31230.000000\n",
      "mean        10.338425\n",
      "std          2.240869\n",
      "min          5.000000\n",
      "25%          9.000000\n",
      "50%         10.000000\n",
      "75%         13.000000\n",
      "max         16.000000\n",
      "Name: Education Number, dtype: float64\n"
     ]
    }
   ],
   "source": [
    "#Outlier Treatment\n",
    "Q1 = df['Education Number'].quantile(0.25)\n",
    "Q3 = df['Education Number'].quantile(0.75)\n",
    "IQR = Q3 - Q1\n",
    "\n",
    "indexNames = df[ df['Education Number'] < (Q1 - 1.5 * IQR) ].index\n",
    "indexNames2 = df[ df['Education Number'] > (Q3 + 1.5 * IQR) ].index\n",
    "# Delete these row indexes from dataFrame\n",
    "df.drop(indexNames , inplace=True)\n",
    "df.drop(indexNames2 , inplace=True)\n",
    "\n",
    "print(df['Education Number'].describe())"
   ]
  },
  {
   "cell_type": "code",
   "execution_count": 21,
   "metadata": {},
   "outputs": [
    {
     "data": {
      "text/plain": [
       "False"
      ]
     },
     "execution_count": 21,
     "metadata": {},
     "output_type": "execute_result"
    }
   ],
   "source": [
    "# Replacing missing values in Education Number with the mean value\n",
    "df['Education Number'].fillna(df['Education Number'].median(),inplace=True)\n",
    "df['Education Number'].isnull().any()"
   ]
  },
  {
   "cell_type": "code",
   "execution_count": 22,
   "metadata": {},
   "outputs": [
    {
     "data": {
      "text/plain": [
       "<matplotlib.axes._subplots.AxesSubplot at 0x1aa81ff3848>"
      ]
     },
     "execution_count": 22,
     "metadata": {},
     "output_type": "execute_result"
    },
    {
     "data": {
      "image/png": "[encoded data removed]",
      "text/plain": [
       "<Figure size 432x288 with 1 Axes>"
      ]
     },
     "metadata": {
      "needs_background": "light"
     },
     "output_type": "display_data"
    }
   ],
   "source": [
    "#Frequency Distribution on EDUCATION NUMBER\n",
    "sns.distplot(df['Education Number'],kde=False)"
   ]
  },
  {
   "cell_type": "code",
   "execution_count": 23,
   "metadata": {},
   "outputs": [
    {
     "name": "stdout",
     "output_type": "stream",
     "text": [
      "count    31237.000000\n",
      "mean      1108.826360\n",
      "std       7526.863072\n",
      "min         -1.000000\n",
      "25%          0.000000\n",
      "50%          0.000000\n",
      "75%          0.000000\n",
      "max      99999.000000\n",
      "Name: Capital Gain, dtype: float64\n"
     ]
    },
    {
     "data": {
      "text/plain": [
       "<matplotlib.axes._subplots.AxesSubplot at 0x1aa8209e208>"
      ]
     },
     "execution_count": 23,
     "metadata": {},
     "output_type": "execute_result"
    },
    {
     "data": {
      "image/png": "[encoded data removed]",
      "text/plain": [
       "<Figure size 432x288 with 1 Axes>"
      ]
     },
     "metadata": {
      "needs_background": "light"
     },
     "output_type": "display_data"
    }
   ],
   "source": [
    "# ---------------Capital Gain-----------------\n",
    "# Descriptive Statistics\n",
    "print(df['Capital Gain'].describe())\n",
    "# From the descriptive statistics, we can see that the min value is negative, which mostly infers Capital Loss.\n",
    "# But since we have a separate feature for Capital Loss, it is very much important we handle such negative values.\n",
    "sns.boxplot(y=df['Capital Gain'])\n",
    "# By analyzing the boxplot, we can see that there are many values that fall away from the maximum value allowed (i.e > 1.5*IQR)\n",
    "# We can infer them as suspected outliers. \n",
    "# Since we are dealing with monetary data & according to the feature description, it would not be a great idea to manipulate such values"
   ]
  },
  {
   "cell_type": "code",
   "execution_count": 24,
   "metadata": {},
   "outputs": [
    {
     "data": {
      "text/plain": [
       "False"
      ]
     },
     "execution_count": 24,
     "metadata": {},
     "output_type": "execute_result"
    }
   ],
   "source": [
    "df['Capital Gain'].fillna(df['Capital Gain'].median(),inplace=True)\n",
    "df['Capital Gain'].isnull().any()"
   ]
  },
  {
   "cell_type": "code",
   "execution_count": 25,
   "metadata": {},
   "outputs": [
    {
     "data": {
      "text/plain": [
       "<matplotlib.axes._subplots.AxesSubplot at 0x1aa8212c6c8>"
      ]
     },
     "execution_count": 25,
     "metadata": {},
     "output_type": "execute_result"
    },
    {
     "data": {
      "image/png": "[encoded data removed]",
      "text/plain": [
       "<Figure size 432x288 with 1 Axes>"
      ]
     },
     "metadata": {
      "needs_background": "light"
     },
     "output_type": "display_data"
    }
   ],
   "source": [
    "#Frequency Distribution of EDUCATION NUMBER\n",
    "sns.distplot(df['Capital Gain'],kde=False,bins=10)"
   ]
  },
  {
   "cell_type": "code",
   "execution_count": 26,
   "metadata": {},
   "outputs": [
    {
     "name": "stdout",
     "output_type": "stream",
     "text": [
      "count    31237.000000\n",
      "mean        87.936390\n",
      "std        403.202936\n",
      "min          0.000000\n",
      "25%          0.000000\n",
      "50%          0.000000\n",
      "75%          0.000000\n",
      "max       4356.000000\n",
      "Name: Capital Loss, dtype: float64\n"
     ]
    },
    {
     "data": {
      "text/plain": [
       "<matplotlib.axes._subplots.AxesSubplot at 0x1aa82198408>"
      ]
     },
     "execution_count": 26,
     "metadata": {},
     "output_type": "execute_result"
    },
    {
     "data": {
      "image/png": "[encoded data removed]",
      "text/plain": [
       "<Figure size 432x288 with 1 Axes>"
      ]
     },
     "metadata": {
      "needs_background": "light"
     },
     "output_type": "display_data"
    }
   ],
   "source": [
    "# --------------- Capital Loss --------------\n",
    "# Descriptive Statistics\n",
    "print(df['Capital Loss'].describe())\n",
    "sns.boxplot(y=df['Capital Loss'])\n",
    "# By analyzing the boxplot, we can see that there are many values that fall away from the maximum value allowed (i.e > 1.5*IQR)\n",
    "# We can infer them as suspected outliers. \n",
    "# Since we are dealing with monetary data & according to the feature description, it would not be a great idea to manipulate such values"
   ]
  },
  {
   "cell_type": "code",
   "execution_count": 27,
   "metadata": {},
   "outputs": [
    {
     "data": {
      "text/plain": [
       "<matplotlib.axes._subplots.AxesSubplot at 0x1aa8220b688>"
      ]
     },
     "execution_count": 27,
     "metadata": {},
     "output_type": "execute_result"
    },
    {
     "data": {
      "image/png": "[encoded data removed]",
      "text/plain": [
       "<Figure size 432x288 with 1 Axes>"
      ]
     },
     "metadata": {
      "needs_background": "light"
     },
     "output_type": "display_data"
    }
   ],
   "source": [
    "#Frequency Distribution of CAPITAL LOSS\n",
    "sns.distplot(df['Capital Loss'],kde=False,bins=10)"
   ]
  },
  {
   "cell_type": "code",
   "execution_count": 28,
   "metadata": {},
   "outputs": [
    {
     "name": "stdout",
     "output_type": "stream",
     "text": [
      "count    31232.000000\n",
      "mean        40.540343\n",
      "std         12.272932\n",
      "min          1.000000\n",
      "25%         40.000000\n",
      "50%         40.000000\n",
      "75%         45.000000\n",
      "max         99.000000\n",
      "Name: Hours/Week, dtype: float64\n"
     ]
    },
    {
     "data": {
      "text/plain": [
       "<matplotlib.axes._subplots.AxesSubplot at 0x1aa82289b48>"
      ]
     },
     "execution_count": 28,
     "metadata": {},
     "output_type": "execute_result"
    },
    {
     "data": {
      "image/png": "[encoded data removed]",
      "text/plain": [
       "<Figure size 432x288 with 1 Axes>"
      ]
     },
     "metadata": {
      "needs_background": "light"
     },
     "output_type": "display_data"
    }
   ],
   "source": [
    "# ----------- Hours Per Week -----------------\n",
    "# Descriptive Statistics\n",
    "print(df['Hours/Week'].describe())\n",
    "sns.boxplot(y=df['Hours/Week'])"
   ]
  },
  {
   "cell_type": "code",
   "execution_count": 29,
   "metadata": {},
   "outputs": [
    {
     "name": "stdout",
     "output_type": "stream",
     "text": [
      "count    22643.000000\n",
      "mean        41.598419\n",
      "std          4.027714\n",
      "min         33.000000\n",
      "25%         40.000000\n",
      "50%         40.000000\n",
      "75%         43.000000\n",
      "max         52.000000\n",
      "Name: Hours/Week, dtype: float64\n"
     ]
    },
    {
     "data": {
      "text/plain": [
       "<matplotlib.axes._subplots.AxesSubplot at 0x1aa8229f748>"
      ]
     },
     "execution_count": 29,
     "metadata": {},
     "output_type": "execute_result"
    },
    {
     "data": {
      "image/png": "[encoded data removed]",
      "text/plain": [
       "<Figure size 432x288 with 1 Axes>"
      ]
     },
     "metadata": {
      "needs_background": "light"
     },
     "output_type": "display_data"
    }
   ],
   "source": [
    "#Outlier Treatment\n",
    "Q1 = df['Hours/Week'].quantile(0.25)\n",
    "Q3 = df['Hours/Week'].quantile(0.75)\n",
    "IQR = Q3 - Q1\n",
    "\n",
    "indexNames = df[ df['Hours/Week'] < (Q1 - 1.5 * IQR) ].index\n",
    "indexNames2 = df[ df['Hours/Week'] > (Q3 + 1.5 * IQR) ].index\n",
    "# Delete these row indexes from dataFrame\n",
    "df.drop(indexNames , inplace=True)\n",
    "df.drop(indexNames2 , inplace=True)\n",
    "\n",
    "print(df['Hours/Week'].describe())\n",
    "sns.boxplot(y=df['Hours/Week'])"
   ]
  },
  {
   "cell_type": "code",
   "execution_count": 30,
   "metadata": {},
   "outputs": [
    {
     "data": {
      "text/plain": [
       "False"
      ]
     },
     "execution_count": 30,
     "metadata": {},
     "output_type": "execute_result"
    }
   ],
   "source": [
    "# Replacing missing values in Hours Per Week with the mean value\n",
    "df['Hours/Week'].fillna(df['Hours/Week'].median(),inplace=True)\n",
    "df['Hours/Week'].isnull().any()"
   ]
  },
  {
   "cell_type": "code",
   "execution_count": 31,
   "metadata": {},
   "outputs": [
    {
     "data": {
      "text/plain": [
       "<matplotlib.axes._subplots.AxesSubplot at 0x1aa81824648>"
      ]
     },
     "execution_count": 31,
     "metadata": {},
     "output_type": "execute_result"
    },
    {
     "data": {
      "image/png": "[encoded data removed]",
      "text/plain": [
       "<Figure size 432x288 with 1 Axes>"
      ]
     },
     "metadata": {
      "needs_background": "light"
     },
     "output_type": "display_data"
    }
   ],
   "source": [
    "#Frequency Distribution of HOURS PER WEEK\n",
    "sns.distplot(df['Hours/Week'],kde=False,bins=10)"
   ]
  },
  {
   "cell_type": "code",
   "execution_count": 32,
   "metadata": {},
   "outputs": [
    {
     "data": {
      "text/plain": [
       "Age                 False\n",
       "Work Class           True\n",
       "Final Weight        False\n",
       "Education            True\n",
       "Education Number    False\n",
       "Marital Status      False\n",
       "Occupation           True\n",
       "Relationship        False\n",
       "Race                False\n",
       "Gender              False\n",
       "Capital Gain        False\n",
       "Capital Loss        False\n",
       "Hours/Week          False\n",
       "Counrty             False\n",
       "Income              False\n",
       "dtype: bool"
      ]
     },
     "execution_count": 32,
     "metadata": {},
     "output_type": "execute_result"
    }
   ],
   "source": [
    "# Checking if we have efficiently replaced all the missing values in numerical attributes\n",
    "df.isnull().any()"
   ]
  },
  {
   "cell_type": "markdown",
   "metadata": {},
   "source": [
    "### 3. Handling incorrectly recorded values "
   ]
  },
  {
   "cell_type": "code",
   "execution_count": 33,
   "metadata": {},
   "outputs": [
    {
     "data": {
      "text/plain": [
       "count    22648.000000\n",
       "mean      1020.874205\n",
       "std       6838.627164\n",
       "min          0.000000\n",
       "25%          0.000000\n",
       "50%          0.000000\n",
       "75%          0.000000\n",
       "max      99999.000000\n",
       "Name: Capital Gain, dtype: float64"
      ]
     },
     "execution_count": 33,
     "metadata": {},
     "output_type": "execute_result"
    }
   ],
   "source": [
    "# Handling negative values in Capital Gain\n",
    "# We saw earlier, that Capital Gain had some negative values. Hence, we would replace it with the most frequent value.\n",
    "# Large values have high influence on the mean and here, it would not be a great idea to replace it with mean.\n",
    "df.loc[df['Capital Gain'] < 0 , 'Capital Gain'] = 0\n",
    "df['Capital Gain'].describe()"
   ]
  },
  {
   "cell_type": "code",
   "execution_count": 34,
   "metadata": {},
   "outputs": [
    {
     "data": {
      "text/html": [
       "<div>\n",
       "<style scoped>\n",
       "    .dataframe tbody tr th:only-of-type {\n",
       "        vertical-align: middle;\n",
       "    }\n",
       "\n",
       "    .dataframe tbody tr th {\n",
       "        vertical-align: top;\n",
       "    }\n",
       "\n",
       "    .dataframe thead th {\n",
       "        text-align: right;\n",
       "    }\n",
       "</style>\n",
       "<table border=\"1\" class=\"dataframe\">\n",
       "  <thead>\n",
       "    <tr style=\"text-align: right;\">\n",
       "      <th></th>\n",
       "      <th>Age</th>\n",
       "      <th>Work Class</th>\n",
       "      <th>Final Weight</th>\n",
       "      <th>Education</th>\n",
       "      <th>Education Number</th>\n",
       "      <th>Marital Status</th>\n",
       "      <th>Occupation</th>\n",
       "      <th>Relationship</th>\n",
       "      <th>Race</th>\n",
       "      <th>Gender</th>\n",
       "      <th>Capital Gain</th>\n",
       "      <th>Capital Loss</th>\n",
       "      <th>Hours/Week</th>\n",
       "      <th>Counrty</th>\n",
       "      <th>Income</th>\n",
       "    </tr>\n",
       "  </thead>\n",
       "  <tbody>\n",
       "    <tr>\n",
       "      <td>3</td>\n",
       "      <td>42.0</td>\n",
       "      <td>Private</td>\n",
       "      <td>116632.0</td>\n",
       "      <td>Doctorate</td>\n",
       "      <td>16.0</td>\n",
       "      <td>Married-civ-spouse</td>\n",
       "      <td>Prof-specialty</td>\n",
       "      <td>Husband</td>\n",
       "      <td>White</td>\n",
       "      <td>Male</td>\n",
       "      <td>0</td>\n",
       "      <td>0</td>\n",
       "      <td>45.0</td>\n",
       "      <td>United-States</td>\n",
       "      <td>&gt;50K</td>\n",
       "    </tr>\n",
       "    <tr>\n",
       "      <td>4</td>\n",
       "      <td>43.0</td>\n",
       "      <td>Federal-gov</td>\n",
       "      <td>410867.0</td>\n",
       "      <td>Doctorate</td>\n",
       "      <td>16.0</td>\n",
       "      <td>Never-married</td>\n",
       "      <td>Prof-specialty</td>\n",
       "      <td>Not-in-family</td>\n",
       "      <td>White</td>\n",
       "      <td>Female</td>\n",
       "      <td>0</td>\n",
       "      <td>0</td>\n",
       "      <td>50.0</td>\n",
       "      <td>United-States</td>\n",
       "      <td>&gt;50K</td>\n",
       "    </tr>\n",
       "    <tr>\n",
       "      <td>8</td>\n",
       "      <td>29.0</td>\n",
       "      <td>Private</td>\n",
       "      <td>133937.0</td>\n",
       "      <td>Doctorate</td>\n",
       "      <td>16.0</td>\n",
       "      <td>Never-married</td>\n",
       "      <td>Prof-specialty</td>\n",
       "      <td>Own-child</td>\n",
       "      <td>White</td>\n",
       "      <td>Male</td>\n",
       "      <td>0</td>\n",
       "      <td>0</td>\n",
       "      <td>40.0</td>\n",
       "      <td>United-States</td>\n",
       "      <td>&lt;=50K</td>\n",
       "    </tr>\n",
       "    <tr>\n",
       "      <td>11</td>\n",
       "      <td>50.0</td>\n",
       "      <td>Self-emp-inc</td>\n",
       "      <td>195322.0</td>\n",
       "      <td>Doctorate</td>\n",
       "      <td>16.0</td>\n",
       "      <td>Separated</td>\n",
       "      <td>Prof-specialty</td>\n",
       "      <td>Not-in-family</td>\n",
       "      <td>White</td>\n",
       "      <td>Male</td>\n",
       "      <td>0</td>\n",
       "      <td>0</td>\n",
       "      <td>40.0</td>\n",
       "      <td>United-States</td>\n",
       "      <td>&gt;50K</td>\n",
       "    </tr>\n",
       "    <tr>\n",
       "      <td>12</td>\n",
       "      <td>35.0</td>\n",
       "      <td>Private</td>\n",
       "      <td>292472.0</td>\n",
       "      <td>Doctorate</td>\n",
       "      <td>16.0</td>\n",
       "      <td>Married-civ-spouse</td>\n",
       "      <td>Prof-specialty</td>\n",
       "      <td>Husband</td>\n",
       "      <td>Asian-Pac-Islander</td>\n",
       "      <td>Male</td>\n",
       "      <td>0</td>\n",
       "      <td>0</td>\n",
       "      <td>40.0</td>\n",
       "      <td>Taiwan</td>\n",
       "      <td>&gt;50K</td>\n",
       "    </tr>\n",
       "  </tbody>\n",
       "</table>\n",
       "</div>"
      ],
      "text/plain": [
       "     Age     Work Class  Final Weight   Education  Education Number  \\\n",
       "3   42.0        Private      116632.0   Doctorate              16.0   \n",
       "4   43.0    Federal-gov      410867.0   Doctorate              16.0   \n",
       "8   29.0        Private      133937.0   Doctorate              16.0   \n",
       "11  50.0   Self-emp-inc      195322.0   Doctorate              16.0   \n",
       "12  35.0        Private      292472.0   Doctorate              16.0   \n",
       "\n",
       "         Marital Status       Occupation    Relationship                 Race  \\\n",
       "3    Married-civ-spouse   Prof-specialty         Husband                White   \n",
       "4         Never-married   Prof-specialty   Not-in-family                White   \n",
       "8         Never-married   Prof-specialty       Own-child                White   \n",
       "11            Separated   Prof-specialty   Not-in-family                White   \n",
       "12   Married-civ-spouse   Prof-specialty         Husband   Asian-Pac-Islander   \n",
       "\n",
       "     Gender  Capital Gain  Capital Loss  Hours/Week         Counrty  Income  \n",
       "3      Male             0             0        45.0   United-States    >50K  \n",
       "4    Female             0             0        50.0   United-States    >50K  \n",
       "8      Male             0             0        40.0   United-States   <=50K  \n",
       "11     Male             0             0        40.0   United-States    >50K  \n",
       "12     Male             0             0        40.0          Taiwan    >50K  "
      ]
     },
     "execution_count": 34,
     "metadata": {},
     "output_type": "execute_result"
    }
   ],
   "source": [
    "df.head(5)"
   ]
  },
  {
   "cell_type": "markdown",
   "metadata": {},
   "source": [
    "## Categorical Attributes "
   ]
  },
  {
   "cell_type": "code",
   "execution_count": 35,
   "metadata": {},
   "outputs": [
    {
     "name": "stdout",
     "output_type": "stream",
     "text": [
      "True\n",
      "count        22644\n",
      "unique           9\n",
      "top        Private\n",
      "freq         16325\n",
      "Name: Work Class, dtype: object\n"
     ]
    }
   ],
   "source": [
    "#------------ Work Class -----------\n",
    "# Checking for null values and descriptive statistics\n",
    "print(df['Work Class'].isnull().any())\n",
    "print(df['Work Class'].describe())"
   ]
  },
  {
   "cell_type": "code",
   "execution_count": 36,
   "metadata": {},
   "outputs": [
    {
     "data": {
      "text/plain": [
       "array([' Private', ' Federal-gov', ' Self-emp-inc', ' State-gov',\n",
       "       ' Local-gov', ' Self-emp-not-inc', ' ?', nan, ' Without-pay',\n",
       "       ' Never-worked'], dtype=object)"
      ]
     },
     "execution_count": 36,
     "metadata": {},
     "output_type": "execute_result"
    }
   ],
   "source": [
    "df['Work Class'].unique()\n",
    "# There are some nan values along with some incorrectly recorded values like '?'"
   ]
  },
  {
   "cell_type": "code",
   "execution_count": 37,
   "metadata": {},
   "outputs": [
    {
     "data": {
      "text/plain": [
       "array([' Private', ' Federal-gov', ' Self-emp-inc', ' State-gov',\n",
       "       ' Local-gov', ' Self-emp-not-inc', ' Without-pay', ' Never-worked'],\n",
       "      dtype=object)"
      ]
     },
     "execution_count": 37,
     "metadata": {},
     "output_type": "execute_result"
    }
   ],
   "source": [
    "# Replacing incorrect data or missing data with value having the most count in the dataset i.e PRIVATE in this case\n",
    "df.loc[df['Work Class'] == \" ?\", 'Work Class'  ] = \" Private\"\n",
    "df['Work Class'].fillna(\" Private\",inplace=True)\n",
    "df['Work Class'].unique()"
   ]
  },
  {
   "cell_type": "code",
   "execution_count": 38,
   "metadata": {},
   "outputs": [
    {
     "data": {
      "image/png": "[encoded data removed]",
      "text/plain": [
       "<Figure size 360x360 with 1 Axes>"
      ]
     },
     "metadata": {
      "needs_background": "light"
     },
     "output_type": "display_data"
    }
   ],
   "source": [
    "sns.catplot(x=\"Work Class\", kind=\"count\", palette=\"ch:.10\",data=df);"
   ]
  },
  {
   "cell_type": "code",
   "execution_count": 40,
   "metadata": {},
   "outputs": [
    {
     "data": {
      "text/html": [
       "<div>\n",
       "<style scoped>\n",
       "    .dataframe tbody tr th:only-of-type {\n",
       "        vertical-align: middle;\n",
       "    }\n",
       "\n",
       "    .dataframe tbody tr th {\n",
       "        vertical-align: top;\n",
       "    }\n",
       "\n",
       "    .dataframe thead th {\n",
       "        text-align: right;\n",
       "    }\n",
       "</style>\n",
       "<table border=\"1\" class=\"dataframe\">\n",
       "  <thead>\n",
       "    <tr style=\"text-align: right;\">\n",
       "      <th></th>\n",
       "      <th>Age</th>\n",
       "      <th>Work Class</th>\n",
       "      <th>Final Weight</th>\n",
       "      <th>Education Number</th>\n",
       "      <th>Marital Status</th>\n",
       "      <th>Occupation</th>\n",
       "      <th>Relationship</th>\n",
       "      <th>Race</th>\n",
       "      <th>Gender</th>\n",
       "      <th>Capital Gain</th>\n",
       "      <th>Capital Loss</th>\n",
       "      <th>Hours/Week</th>\n",
       "      <th>Counrty</th>\n",
       "      <th>Income</th>\n",
       "    </tr>\n",
       "  </thead>\n",
       "  <tbody>\n",
       "    <tr>\n",
       "      <td>3</td>\n",
       "      <td>42.0</td>\n",
       "      <td>Private</td>\n",
       "      <td>116632.0</td>\n",
       "      <td>16.0</td>\n",
       "      <td>Married-civ-spouse</td>\n",
       "      <td>Prof-specialty</td>\n",
       "      <td>Husband</td>\n",
       "      <td>White</td>\n",
       "      <td>Male</td>\n",
       "      <td>0</td>\n",
       "      <td>0</td>\n",
       "      <td>45.0</td>\n",
       "      <td>United-States</td>\n",
       "      <td>&gt;50K</td>\n",
       "    </tr>\n",
       "    <tr>\n",
       "      <td>4</td>\n",
       "      <td>43.0</td>\n",
       "      <td>Federal-gov</td>\n",
       "      <td>410867.0</td>\n",
       "      <td>16.0</td>\n",
       "      <td>Never-married</td>\n",
       "      <td>Prof-specialty</td>\n",
       "      <td>Not-in-family</td>\n",
       "      <td>White</td>\n",
       "      <td>Female</td>\n",
       "      <td>0</td>\n",
       "      <td>0</td>\n",
       "      <td>50.0</td>\n",
       "      <td>United-States</td>\n",
       "      <td>&gt;50K</td>\n",
       "    </tr>\n",
       "    <tr>\n",
       "      <td>8</td>\n",
       "      <td>29.0</td>\n",
       "      <td>Private</td>\n",
       "      <td>133937.0</td>\n",
       "      <td>16.0</td>\n",
       "      <td>Never-married</td>\n",
       "      <td>Prof-specialty</td>\n",
       "      <td>Own-child</td>\n",
       "      <td>White</td>\n",
       "      <td>Male</td>\n",
       "      <td>0</td>\n",
       "      <td>0</td>\n",
       "      <td>40.0</td>\n",
       "      <td>United-States</td>\n",
       "      <td>&lt;=50K</td>\n",
       "    </tr>\n",
       "    <tr>\n",
       "      <td>11</td>\n",
       "      <td>50.0</td>\n",
       "      <td>Self-emp-inc</td>\n",
       "      <td>195322.0</td>\n",
       "      <td>16.0</td>\n",
       "      <td>Separated</td>\n",
       "      <td>Prof-specialty</td>\n",
       "      <td>Not-in-family</td>\n",
       "      <td>White</td>\n",
       "      <td>Male</td>\n",
       "      <td>0</td>\n",
       "      <td>0</td>\n",
       "      <td>40.0</td>\n",
       "      <td>United-States</td>\n",
       "      <td>&gt;50K</td>\n",
       "    </tr>\n",
       "    <tr>\n",
       "      <td>12</td>\n",
       "      <td>35.0</td>\n",
       "      <td>Private</td>\n",
       "      <td>292472.0</td>\n",
       "      <td>16.0</td>\n",
       "      <td>Married-civ-spouse</td>\n",
       "      <td>Prof-specialty</td>\n",
       "      <td>Husband</td>\n",
       "      <td>Asian-Pac-Islander</td>\n",
       "      <td>Male</td>\n",
       "      <td>0</td>\n",
       "      <td>0</td>\n",
       "      <td>40.0</td>\n",
       "      <td>Taiwan</td>\n",
       "      <td>&gt;50K</td>\n",
       "    </tr>\n",
       "  </tbody>\n",
       "</table>\n",
       "</div>"
      ],
      "text/plain": [
       "     Age     Work Class  Final Weight  Education Number       Marital Status  \\\n",
       "3   42.0        Private      116632.0              16.0   Married-civ-spouse   \n",
       "4   43.0    Federal-gov      410867.0              16.0        Never-married   \n",
       "8   29.0        Private      133937.0              16.0        Never-married   \n",
       "11  50.0   Self-emp-inc      195322.0              16.0            Separated   \n",
       "12  35.0        Private      292472.0              16.0   Married-civ-spouse   \n",
       "\n",
       "         Occupation    Relationship                 Race   Gender  \\\n",
       "3    Prof-specialty         Husband                White     Male   \n",
       "4    Prof-specialty   Not-in-family                White   Female   \n",
       "8    Prof-specialty       Own-child                White     Male   \n",
       "11   Prof-specialty   Not-in-family                White     Male   \n",
       "12   Prof-specialty         Husband   Asian-Pac-Islander     Male   \n",
       "\n",
       "    Capital Gain  Capital Loss  Hours/Week         Counrty  Income  \n",
       "3              0             0        45.0   United-States    >50K  \n",
       "4              0             0        50.0   United-States    >50K  \n",
       "8              0             0        40.0   United-States   <=50K  \n",
       "11             0             0        40.0   United-States    >50K  \n",
       "12             0             0        40.0          Taiwan    >50K  "
      ]
     },
     "execution_count": 40,
     "metadata": {},
     "output_type": "execute_result"
    }
   ],
   "source": [
    "# ------------- Education ------------\n",
    "# Since we already have Education Number feature, we can drop Education attribute. Otherwise it will increase model complexity\n",
    "df = df.drop('Education',axis=1)\n",
    "df.head(5)"
   ]
  },
  {
   "cell_type": "code",
   "execution_count": 41,
   "metadata": {},
   "outputs": [
    {
     "name": "stdout",
     "output_type": "stream",
     "text": [
      "False\n",
      "count                   22648\n",
      "unique                      7\n",
      "top        Married-civ-spouse\n",
      "freq                    10849\n",
      "Name: Marital Status, dtype: object\n"
     ]
    }
   ],
   "source": [
    "# ----------- Marital Status -----------\n",
    "# Checking for null values and descriptive statistics\n",
    "print(df['Marital Status'].isnull().any())\n",
    "print(df['Marital Status'].describe())"
   ]
  },
  {
   "cell_type": "code",
   "execution_count": 42,
   "metadata": {},
   "outputs": [
    {
     "data": {
      "text/plain": [
       "array([' Married-civ-spouse', ' Never-married', ' Separated', ' Divorced',\n",
       "       ' Married-spouse-absent', ' Widowed', ' Married-AF-spouse'],\n",
       "      dtype=object)"
      ]
     },
     "execution_count": 42,
     "metadata": {},
     "output_type": "execute_result"
    }
   ],
   "source": [
    "df['Marital Status'].unique()"
   ]
  },
  {
   "cell_type": "code",
   "execution_count": 43,
   "metadata": {},
   "outputs": [
    {
     "data": {
      "text/plain": [
       "array([' Married', ' Independent'], dtype=object)"
      ]
     },
     "execution_count": 43,
     "metadata": {},
     "output_type": "execute_result"
    }
   ],
   "source": [
    "# Replacing all instances of 'Married______' status with common married status. Similarly, with other status\n",
    "df.loc[(df['Marital Status'] == \" Married-civ-spouse\") |\n",
    "       (df['Marital Status'] == \" Married-AF-spouse\"), 'Marital Status'  ] = \" Married\"\n",
    "df.loc[df['Marital Status'] != \" Married\" , 'Marital Status'  ] = \" Independent\"\n",
    "df['Marital Status'].unique()"
   ]
  },
  {
   "cell_type": "code",
   "execution_count": 44,
   "metadata": {},
   "outputs": [
    {
     "data": {
      "image/png": "[encoded data removed]",
      "text/plain": [
       "<Figure size 360x360 with 1 Axes>"
      ]
     },
     "metadata": {
      "needs_background": "light"
     },
     "output_type": "display_data"
    }
   ],
   "source": [
    "sns.catplot(x=\"Marital Status\", kind=\"count\", palette=\"ch:.10\",data=df);"
   ]
  },
  {
   "cell_type": "code",
   "execution_count": 45,
   "metadata": {},
   "outputs": [
    {
     "name": "stdout",
     "output_type": "stream",
     "text": [
      "True\n",
      "count             22646\n",
      "unique               15\n",
      "top        Craft-repair\n",
      "freq               3315\n",
      "Name: Occupation, dtype: object\n"
     ]
    }
   ],
   "source": [
    "# ------------ Occupation ------------------\n",
    "# Checking for null values and descriptive statistics\n",
    "print(df['Occupation'].isnull().any())\n",
    "print(df['Occupation'].describe())"
   ]
  },
  {
   "cell_type": "code",
   "execution_count": 46,
   "metadata": {},
   "outputs": [
    {
     "data": {
      "text/plain": [
       "array([' Prof-specialty', ' Exec-managerial', ' Adm-clerical', ' Sales',\n",
       "       ' Craft-repair', ' Farming-fishing', ' Tech-support',\n",
       "       ' Transport-moving', ' Machine-op-inspct', ' Protective-serv',\n",
       "       ' Other-service', ' Handlers-cleaners', ' Priv-house-serv',\n",
       "       ' Armed-Forces'], dtype=object)"
      ]
     },
     "execution_count": 46,
     "metadata": {},
     "output_type": "execute_result"
    }
   ],
   "source": [
    "# There are some nan values along with some incorrectly recorded values like '?'\n",
    "# We will replace it most frequent category\n",
    "df['Occupation'].fillna(\" Prof-specialty\",inplace=True)\n",
    "df.loc[df['Occupation'] == \" ?\", 'Occupation'  ] = \" Prof-specialty\"\n",
    "df['Occupation'].unique()"
   ]
  },
  {
   "cell_type": "code",
   "execution_count": 47,
   "metadata": {},
   "outputs": [
    {
     "data": {
      "image/png": "[encoded data removed]",
      "text/plain": [
       "<Figure size 360x360 with 1 Axes>"
      ]
     },
     "metadata": {
      "needs_background": "light"
     },
     "output_type": "display_data"
    }
   ],
   "source": [
    "sns.catplot(x=\"Occupation\", kind=\"count\", palette=\"ch:.10\",data=df);"
   ]
  },
  {
   "cell_type": "code",
   "execution_count": 48,
   "metadata": {},
   "outputs": [
    {
     "name": "stdout",
     "output_type": "stream",
     "text": [
      "False\n",
      "count        22648\n",
      "unique           7\n",
      "top        Husband\n",
      "freq          9631\n",
      "Name: Relationship, dtype: object\n"
     ]
    }
   ],
   "source": [
    "# ------------- Relationship -----------------\n",
    "# Checking for null values and descriptive statistics\n",
    "print(df['Relationship'].isnull().any())\n",
    "print(df['Relationship'].describe())"
   ]
  },
  {
   "cell_type": "code",
   "execution_count": 49,
   "metadata": {},
   "outputs": [
    {
     "data": {
      "text/plain": [
       "array([' Husband', ' Not-in-family', ' Own-child', ' Wife', ' Unmarried',\n",
       "       ' Other-relative', '?'], dtype=object)"
      ]
     },
     "execution_count": 49,
     "metadata": {},
     "output_type": "execute_result"
    }
   ],
   "source": [
    "df['Relationship'].unique()\n",
    "# There are some nan values along with some incorrectly recorded values like '?'"
   ]
  },
  {
   "cell_type": "code",
   "execution_count": 50,
   "metadata": {},
   "outputs": [
    {
     "data": {
      "text/html": [
       "<div>\n",
       "<style scoped>\n",
       "    .dataframe tbody tr th:only-of-type {\n",
       "        vertical-align: middle;\n",
       "    }\n",
       "\n",
       "    .dataframe tbody tr th {\n",
       "        vertical-align: top;\n",
       "    }\n",
       "\n",
       "    .dataframe thead th {\n",
       "        text-align: right;\n",
       "    }\n",
       "</style>\n",
       "<table border=\"1\" class=\"dataframe\">\n",
       "  <thead>\n",
       "    <tr style=\"text-align: right;\">\n",
       "      <th></th>\n",
       "      <th>Age</th>\n",
       "      <th>Work Class</th>\n",
       "      <th>Final Weight</th>\n",
       "      <th>Education Number</th>\n",
       "      <th>Marital Status</th>\n",
       "      <th>Occupation</th>\n",
       "      <th>Relationship</th>\n",
       "      <th>Race</th>\n",
       "      <th>Gender</th>\n",
       "      <th>Capital Gain</th>\n",
       "      <th>Capital Loss</th>\n",
       "      <th>Hours/Week</th>\n",
       "      <th>Counrty</th>\n",
       "      <th>Income</th>\n",
       "    </tr>\n",
       "  </thead>\n",
       "  <tbody>\n",
       "    <tr>\n",
       "      <td>418</td>\n",
       "      <td>37.0</td>\n",
       "      <td>Private</td>\n",
       "      <td>112763.0</td>\n",
       "      <td>15.0</td>\n",
       "      <td>Married</td>\n",
       "      <td>Prof-specialty</td>\n",
       "      <td>?</td>\n",
       "      <td>White</td>\n",
       "      <td>Female</td>\n",
       "      <td>0</td>\n",
       "      <td>0</td>\n",
       "      <td>40.0</td>\n",
       "      <td>United-States</td>\n",
       "      <td>&gt;50K</td>\n",
       "    </tr>\n",
       "    <tr>\n",
       "      <td>9136</td>\n",
       "      <td>29.0</td>\n",
       "      <td>Private</td>\n",
       "      <td>271466.0</td>\n",
       "      <td>11.0</td>\n",
       "      <td>Independent</td>\n",
       "      <td>Prof-specialty</td>\n",
       "      <td>?</td>\n",
       "      <td>White</td>\n",
       "      <td>Male</td>\n",
       "      <td>0</td>\n",
       "      <td>0</td>\n",
       "      <td>43.0</td>\n",
       "      <td>United-States</td>\n",
       "      <td>&lt;=50K</td>\n",
       "    </tr>\n",
       "    <tr>\n",
       "      <td>10543</td>\n",
       "      <td>49.0</td>\n",
       "      <td>Private</td>\n",
       "      <td>81973.0</td>\n",
       "      <td>10.0</td>\n",
       "      <td>Married</td>\n",
       "      <td>Craft-repair</td>\n",
       "      <td>?</td>\n",
       "      <td>Asian-Pac-Islander</td>\n",
       "      <td>Male</td>\n",
       "      <td>0</td>\n",
       "      <td>0</td>\n",
       "      <td>40.0</td>\n",
       "      <td>United-States</td>\n",
       "      <td>&gt;50K</td>\n",
       "    </tr>\n",
       "    <tr>\n",
       "      <td>10597</td>\n",
       "      <td>25.0</td>\n",
       "      <td>Private</td>\n",
       "      <td>344991.0</td>\n",
       "      <td>10.0</td>\n",
       "      <td>Married</td>\n",
       "      <td>Craft-repair</td>\n",
       "      <td>?</td>\n",
       "      <td>White</td>\n",
       "      <td>Male</td>\n",
       "      <td>0</td>\n",
       "      <td>0</td>\n",
       "      <td>40.0</td>\n",
       "      <td>United-States</td>\n",
       "      <td>&lt;=50K</td>\n",
       "    </tr>\n",
       "    <tr>\n",
       "      <td>17892</td>\n",
       "      <td>24.0</td>\n",
       "      <td>Private</td>\n",
       "      <td>278130.0</td>\n",
       "      <td>9.0</td>\n",
       "      <td>Independent</td>\n",
       "      <td>Craft-repair</td>\n",
       "      <td>?</td>\n",
       "      <td>White</td>\n",
       "      <td>Male</td>\n",
       "      <td>0</td>\n",
       "      <td>0</td>\n",
       "      <td>40.0</td>\n",
       "      <td>United-States</td>\n",
       "      <td>&lt;=50K</td>\n",
       "    </tr>\n",
       "  </tbody>\n",
       "</table>\n",
       "</div>"
      ],
      "text/plain": [
       "        Age Work Class  Final Weight  Education Number Marital Status  \\\n",
       "418    37.0    Private      112763.0              15.0        Married   \n",
       "9136   29.0    Private      271466.0              11.0    Independent   \n",
       "10543  49.0    Private       81973.0              10.0        Married   \n",
       "10597  25.0    Private      344991.0              10.0        Married   \n",
       "17892  24.0    Private      278130.0               9.0    Independent   \n",
       "\n",
       "            Occupation Relationship                 Race   Gender  \\\n",
       "418     Prof-specialty            ?                White   Female   \n",
       "9136    Prof-specialty            ?                White     Male   \n",
       "10543     Craft-repair            ?   Asian-Pac-Islander     Male   \n",
       "10597     Craft-repair            ?                White     Male   \n",
       "17892     Craft-repair            ?                White     Male   \n",
       "\n",
       "       Capital Gain  Capital Loss  Hours/Week         Counrty  Income  \n",
       "418               0             0        40.0   United-States    >50K  \n",
       "9136              0             0        43.0   United-States   <=50K  \n",
       "10543             0             0        40.0   United-States    >50K  \n",
       "10597             0             0        40.0   United-States   <=50K  \n",
       "17892             0             0        40.0   United-States   <=50K  "
      ]
     },
     "execution_count": 50,
     "metadata": {},
     "output_type": "execute_result"
    }
   ],
   "source": [
    "# In this case, it would not be great idea to just replace the incorrect values with most frequent category\n",
    "# Example : Suppose most frequent category is Husband. But we have to look other entries in the same observation as well. \n",
    "# Replacing entry with Husband where the gender in the same observation is Female does not make sense.\n",
    "# Hence, we will examine other attributes in the same observation before replacing them.\n",
    "df.loc[df['Relationship'] == \"?\"]"
   ]
  },
  {
   "cell_type": "code",
   "execution_count": 51,
   "metadata": {},
   "outputs": [
    {
     "name": "stdout",
     "output_type": "stream",
     "text": [
      " Husband           9631\n",
      " Not-in-family     5967\n",
      " Own-child         2801\n",
      " Unmarried         2551\n",
      " Wife              1071\n",
      " Other-relative     622\n",
      "?                     5\n",
      "Name: Relationship, dtype: int64\n",
      "[' Husband' ' Not-in-family' ' Own-child' ' Wife' ' Unmarried'\n",
      " ' Other-relative']\n"
     ]
    }
   ],
   "source": [
    "# Now we will replace the incorrect relationship status by checking the gender and age in the same row\n",
    "print(df['Relationship'].value_counts())\n",
    "df.loc[(df['Relationship'] == \"?\") & (df['Gender'] == \" Male\"), 'Relationship'  ] = \" Husband\"\n",
    "df.loc[(df['Relationship'] == \"?\") & (df['Gender'] == \" Female\") & (df['Marital Status'] == \" Married\"), 'Relationship'  ] = \" Wife\"\n",
    "df.loc[(df['Relationship'] == \"?\") & (df['Gender'] == \" Female\") & (df['Marital Status'] == \" Independent\") & (df['Age'] < 18 ), 'Relationship'  ] = \" Unmarried\"\n",
    "print(df['Relationship'].unique())"
   ]
  },
  {
   "cell_type": "code",
   "execution_count": 52,
   "metadata": {},
   "outputs": [
    {
     "data": {
      "image/png": "[encoded data removed]",
      "text/plain": [
       "<Figure size 360x360 with 1 Axes>"
      ]
     },
     "metadata": {
      "needs_background": "light"
     },
     "output_type": "display_data"
    }
   ],
   "source": [
    "sns.catplot(x=\"Relationship\", kind=\"count\", palette=\"ch:.10\",data=df);"
   ]
  },
  {
   "cell_type": "code",
   "execution_count": 53,
   "metadata": {},
   "outputs": [
    {
     "name": "stdout",
     "output_type": "stream",
     "text": [
      "False\n",
      "count      22648\n",
      "unique         6\n",
      "top        White\n",
      "freq       19196\n",
      "Name: Race, dtype: object\n"
     ]
    }
   ],
   "source": [
    "# ------------ Race ----------------\n",
    "# Checking for null values and descriptive statistics\n",
    "print(df['Race'].isnull().any())\n",
    "print(df['Race'].describe())"
   ]
  },
  {
   "cell_type": "code",
   "execution_count": 54,
   "metadata": {},
   "outputs": [
    {
     "data": {
      "text/plain": [
       "array([' White', ' Asian-Pac-Islander', ' Black', ' Other',\n",
       "       ' Amer-Indian-Eskimo', '?'], dtype=object)"
      ]
     },
     "execution_count": 54,
     "metadata": {},
     "output_type": "execute_result"
    }
   ],
   "source": [
    "df['Race'].unique()\n",
    "# There are some nan values along with some incorrectly recorded values like '?'\n",
    "# We will replace it most frequent category"
   ]
  },
  {
   "cell_type": "code",
   "execution_count": 55,
   "metadata": {},
   "outputs": [
    {
     "data": {
      "text/plain": [
       "array([' White', ' Asian-Pac-Islander', ' Black', ' Other',\n",
       "       ' Amer-Indian-Eskimo'], dtype=object)"
      ]
     },
     "execution_count": 55,
     "metadata": {},
     "output_type": "execute_result"
    }
   ],
   "source": [
    "df.loc[df['Race'] == \"?\", 'Race'  ] = \" White\"\n",
    "df['Race'].unique()"
   ]
  },
  {
   "cell_type": "code",
   "execution_count": 56,
   "metadata": {},
   "outputs": [
    {
     "data": {
      "image/png": "[encoded data removed]",
      "text/plain": [
       "<Figure size 360x360 with 1 Axes>"
      ]
     },
     "metadata": {
      "needs_background": "light"
     },
     "output_type": "display_data"
    }
   ],
   "source": [
    "sns.catplot(x=\"Race\", kind=\"count\", palette=\"ch:.10\",data=df);"
   ]
  },
  {
   "cell_type": "code",
   "execution_count": 57,
   "metadata": {},
   "outputs": [
    {
     "name": "stdout",
     "output_type": "stream",
     "text": [
      "False\n",
      "count     22648\n",
      "unique        2\n",
      "top        Male\n",
      "freq      15501\n",
      "Name: Gender, dtype: object\n"
     ]
    }
   ],
   "source": [
    "# ------------ Gender -------------\n",
    "# Checking for null values and descriptive statistics\n",
    "print(df['Gender'].isnull().any())\n",
    "print(df['Gender'].describe())"
   ]
  },
  {
   "cell_type": "code",
   "execution_count": 58,
   "metadata": {},
   "outputs": [
    {
     "data": {
      "image/png": "[encoded data removed]",
      "text/plain": [
       "<Figure size 360x360 with 1 Axes>"
      ]
     },
     "metadata": {
      "needs_background": "light"
     },
     "output_type": "display_data"
    }
   ],
   "source": [
    "sns.catplot(x=\"Gender\", kind=\"count\", palette=\"ch:.10\",data=df);"
   ]
  },
  {
   "cell_type": "code",
   "execution_count": 59,
   "metadata": {},
   "outputs": [
    {
     "name": "stdout",
     "output_type": "stream",
     "text": [
      "False\n",
      "count              22648\n",
      "unique                42\n",
      "top        United-States\n",
      "freq               20539\n",
      "Name: Counrty, dtype: object\n"
     ]
    }
   ],
   "source": [
    "# ----------- Country ------------\n",
    "# Checking for null values and descriptive statistics\n",
    "print(df['Counrty'].isnull().any())\n",
    "print(df['Counrty'].describe())"
   ]
  },
  {
   "cell_type": "code",
   "execution_count": 60,
   "metadata": {},
   "outputs": [
    {
     "data": {
      "text/plain": [
       "array([' United-States', ' Taiwan', ' ?', ' England', ' Canada', ' India',\n",
       "       ' Mexico', ' Iran', ' China', ' Italy', ' Columbia', ' Cuba',\n",
       "       ' France', ' Germany', ' Japan', ' Thailand', ' Jamaica',\n",
       "       ' Poland', ' Hong', ' Vietnam', ' Greece', ' Philippines',\n",
       "       ' Haiti', ' South', ' El-Salvador', ' Laos', ' Dominican-Republic',\n",
       "       ' Peru', ' Nicaragua', ' Ecuador', ' Scotland', ' Trinadad&Tobago',\n",
       "       ' Ireland', ' Portugal', ' Honduras', ' Cambodia', ' Puerto-Rico',\n",
       "       ' Yugoslavia', ' Hungary', ' Outlying-US(Guam-USVI-etc)',\n",
       "       ' Guatemala', ' Holand-Netherlands'], dtype=object)"
      ]
     },
     "execution_count": 60,
     "metadata": {},
     "output_type": "execute_result"
    }
   ],
   "source": [
    "df['Counrty'].unique()\n",
    "# There are some nan values along with some incorrectly recorded values like '?'\n",
    "# We will replace it most frequent country"
   ]
  },
  {
   "cell_type": "code",
   "execution_count": 61,
   "metadata": {},
   "outputs": [
    {
     "data": {
      "text/plain": [
       "array([' United-States', ' Taiwan', ' England', ' Canada', ' India',\n",
       "       ' Mexico', ' Iran', ' China', ' Italy', ' Columbia', ' Cuba',\n",
       "       ' France', ' Germany', ' Japan', ' Thailand', ' Jamaica',\n",
       "       ' Poland', ' Hong', ' Vietnam', ' Greece', ' Philippines',\n",
       "       ' Haiti', ' South', ' El-Salvador', ' Laos', ' Dominican-Republic',\n",
       "       ' Peru', ' Nicaragua', ' Ecuador', ' Scotland', ' Trinadad&Tobago',\n",
       "       ' Ireland', ' Portugal', ' Honduras', ' Cambodia', ' Puerto-Rico',\n",
       "       ' Yugoslavia', ' Hungary', ' Outlying-US(Guam-USVI-etc)',\n",
       "       ' Guatemala', ' Holand-Netherlands'], dtype=object)"
      ]
     },
     "execution_count": 61,
     "metadata": {},
     "output_type": "execute_result"
    }
   ],
   "source": [
    "df.loc[df['Counrty'] == \" ?\", 'Counrty'  ] = \" United-States\"\n",
    "df['Counrty'].unique()"
   ]
  },
  {
   "cell_type": "code",
   "execution_count": 62,
   "metadata": {},
   "outputs": [
    {
     "data": {
      "text/plain": [
       "Age                 False\n",
       "Work Class          False\n",
       "Final Weight        False\n",
       "Education Number    False\n",
       "Marital Status      False\n",
       "Occupation          False\n",
       "Relationship        False\n",
       "Race                False\n",
       "Gender              False\n",
       "Capital Gain        False\n",
       "Capital Loss        False\n",
       "Hours/Week          False\n",
       "Counrty             False\n",
       "Income              False\n",
       "dtype: bool"
      ]
     },
     "execution_count": 62,
     "metadata": {},
     "output_type": "execute_result"
    }
   ],
   "source": [
    "# Checking for null values, AGAIN !!!\n",
    "df.isnull().any()"
   ]
  },
  {
   "cell_type": "markdown",
   "metadata": {},
   "source": [
    "# Done!!!"
   ]
  },
  {
   "cell_type": "markdown",
   "metadata": {},
   "source": [
    "##### We have now processed our raw data. So far, we have :\n",
    "##### 1. Handled missing/nan entries\n",
    "##### 2. Handled outliers wherever applicable \n",
    "##### 3. Dropped unnecessary columns\n",
    "##### 4. Visualized frequency distribution\n",
    "##### 5. Handled incorrect entries (?,-ve,etc.)\n"
   ]
  },
  {
   "cell_type": "code",
   "execution_count": 63,
   "metadata": {},
   "outputs": [],
   "source": [
    "# Now, lets write our preprocessed dataframe into a new csv file\n",
    "df.to_csv(r'C:\\Users\\Deep Joshi\\Desktop\\Data Analysis\\Machine Learning\\Income Prediction\\data\\processed\\CensusDataProcessed.csv')"
   ]
  }
 ],
 "metadata": {
  "kernelspec": {
   "display_name": "Python 3",
   "language": "python",
   "name": "python3"
  },
  "language_info": {
   "codemirror_mode": {
    "name": "ipython",
    "version": 3
   },
   "file_extension": ".py",
   "mimetype": "text/x-python",
   "name": "python",
   "nbconvert_exporter": "python",
   "pygments_lexer": "ipython3",
   "version": "3.7.4"
  }
 },
 "nbformat": 4,
 "nbformat_minor": 2
}
