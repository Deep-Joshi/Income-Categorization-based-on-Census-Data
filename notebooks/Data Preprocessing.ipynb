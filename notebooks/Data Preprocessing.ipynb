{
 "cells": [
  {
   "cell_type": "code",
   "execution_count": 1,
   "metadata": {},
   "outputs": [],
   "source": [
    "#Importing Base Libraries\n",
    "import numpy as np\n",
    "import pandas as pd \n",
    "import matplotlib.pyplot as plt\n",
    "import seaborn as sns\n",
    "%matplotlib inline"
   ]
  },
  {
   "cell_type": "code",
   "execution_count": 2,
   "metadata": {},
   "outputs": [
    {
     "data": {
      "text/html": [
       "<div>\n",
       "<style scoped>\n",
       "    .dataframe tbody tr th:only-of-type {\n",
       "        vertical-align: middle;\n",
       "    }\n",
       "\n",
       "    .dataframe tbody tr th {\n",
       "        vertical-align: top;\n",
       "    }\n",
       "\n",
       "    .dataframe thead th {\n",
       "        text-align: right;\n",
       "    }\n",
       "</style>\n",
       "<table border=\"1\" class=\"dataframe\">\n",
       "  <thead>\n",
       "    <tr style=\"text-align: right;\">\n",
       "      <th></th>\n",
       "      <th>Age</th>\n",
       "      <th>Work Class</th>\n",
       "      <th>Final Weight</th>\n",
       "      <th>Education</th>\n",
       "      <th>Education Number</th>\n",
       "      <th>Marital Status</th>\n",
       "      <th>Occupation</th>\n",
       "      <th>Relationship</th>\n",
       "      <th>Race</th>\n",
       "      <th>Gender</th>\n",
       "      <th>Capital Gain</th>\n",
       "      <th>Capital Loss</th>\n",
       "      <th>Hours/Week</th>\n",
       "      <th>Counrty</th>\n",
       "      <th>Income</th>\n",
       "    </tr>\n",
       "  </thead>\n",
       "  <tbody>\n",
       "    <tr>\n",
       "      <td>0</td>\n",
       "      <td>19.0</td>\n",
       "      <td>Private</td>\n",
       "      <td>192453</td>\n",
       "      <td>Some-college</td>\n",
       "      <td>562.0</td>\n",
       "      <td>Never-married</td>\n",
       "      <td>Other-service</td>\n",
       "      <td>Other-relative</td>\n",
       "      <td>White</td>\n",
       "      <td>Female</td>\n",
       "      <td>0</td>\n",
       "      <td>0</td>\n",
       "      <td>25.0</td>\n",
       "      <td>United-States</td>\n",
       "      <td>&lt;=50K</td>\n",
       "    </tr>\n",
       "    <tr>\n",
       "      <td>1</td>\n",
       "      <td>26.0</td>\n",
       "      <td>Private</td>\n",
       "      <td>167350</td>\n",
       "      <td>HS-grad</td>\n",
       "      <td>100.0</td>\n",
       "      <td>Never-married</td>\n",
       "      <td>Other-service</td>\n",
       "      <td>Other-relative</td>\n",
       "      <td>White</td>\n",
       "      <td>Male</td>\n",
       "      <td>0</td>\n",
       "      <td>0</td>\n",
       "      <td>30.0</td>\n",
       "      <td>United-States</td>\n",
       "      <td>&lt;=50K</td>\n",
       "    </tr>\n",
       "    <tr>\n",
       "      <td>2</td>\n",
       "      <td>40.0</td>\n",
       "      <td>Private</td>\n",
       "      <td>193524</td>\n",
       "      <td>Doctorate</td>\n",
       "      <td>16.0</td>\n",
       "      <td>Married-civ-spouse</td>\n",
       "      <td>Prof-specialty</td>\n",
       "      <td>Husband</td>\n",
       "      <td>White</td>\n",
       "      <td>Male</td>\n",
       "      <td>0</td>\n",
       "      <td>0</td>\n",
       "      <td>60.0</td>\n",
       "      <td>United-States</td>\n",
       "      <td>&gt;50K</td>\n",
       "    </tr>\n",
       "    <tr>\n",
       "      <td>3</td>\n",
       "      <td>42.0</td>\n",
       "      <td>Private</td>\n",
       "      <td>116632</td>\n",
       "      <td>Doctorate</td>\n",
       "      <td>16.0</td>\n",
       "      <td>Married-civ-spouse</td>\n",
       "      <td>Prof-specialty</td>\n",
       "      <td>Husband</td>\n",
       "      <td>White</td>\n",
       "      <td>Male</td>\n",
       "      <td>0</td>\n",
       "      <td>0</td>\n",
       "      <td>45.0</td>\n",
       "      <td>United-States</td>\n",
       "      <td>&gt;50K</td>\n",
       "    </tr>\n",
       "    <tr>\n",
       "      <td>4</td>\n",
       "      <td>43.0</td>\n",
       "      <td>Federal-gov</td>\n",
       "      <td>410867</td>\n",
       "      <td>Doctorate</td>\n",
       "      <td>16.0</td>\n",
       "      <td>Never-married</td>\n",
       "      <td>Prof-specialty</td>\n",
       "      <td>Not-in-family</td>\n",
       "      <td>White</td>\n",
       "      <td>Female</td>\n",
       "      <td>0</td>\n",
       "      <td>0</td>\n",
       "      <td>50.0</td>\n",
       "      <td>United-States</td>\n",
       "      <td>&gt;50K</td>\n",
       "    </tr>\n",
       "  </tbody>\n",
       "</table>\n",
       "</div>"
      ],
      "text/plain": [
       "    Age    Work Class Final Weight      Education  Education Number  \\\n",
       "0  19.0       Private       192453   Some-college             562.0   \n",
       "1  26.0       Private       167350        HS-grad             100.0   \n",
       "2  40.0       Private       193524      Doctorate              16.0   \n",
       "3  42.0       Private       116632      Doctorate              16.0   \n",
       "4  43.0   Federal-gov       410867      Doctorate              16.0   \n",
       "\n",
       "        Marital Status       Occupation     Relationship    Race   Gender  \\\n",
       "0        Never-married    Other-service   Other-relative   White   Female   \n",
       "1        Never-married    Other-service   Other-relative   White     Male   \n",
       "2   Married-civ-spouse   Prof-specialty          Husband   White     Male   \n",
       "3   Married-civ-spouse   Prof-specialty          Husband   White     Male   \n",
       "4        Never-married   Prof-specialty    Not-in-family   White   Female   \n",
       "\n",
       "   Capital Gain  Capital Loss  Hours/Week         Counrty  Income  \n",
       "0             0             0        25.0   United-States   <=50K  \n",
       "1             0             0        30.0   United-States   <=50K  \n",
       "2             0             0        60.0   United-States    >50K  \n",
       "3             0             0        45.0   United-States    >50K  \n",
       "4             0             0        50.0   United-States    >50K  "
      ]
     },
     "execution_count": 2,
     "metadata": {},
     "output_type": "execute_result"
    }
   ],
   "source": [
    "#Importing the raw dataset\n",
    "df = pd.read_csv(r'C:\\Users\\Deep Joshi\\Desktop\\Data Analysis\\Machine Learning\\Income Prediction\\data\\raw\\CensusData.csv')\n",
    "df.head()"
   ]
  },
  {
   "cell_type": "markdown",
   "metadata": {},
   "source": [
    "# Data Preprocessing \n",
    "## Numerical Attributes\n",
    "### 1. Handling Missing Values"
   ]
  },
  {
   "cell_type": "code",
   "execution_count": 3,
   "metadata": {},
   "outputs": [
    {
     "name": "stdout",
     "output_type": "stream",
     "text": [
      "Age                 10\n",
      "Work Class           5\n",
      "Final Weight         8\n",
      "Education            7\n",
      "Education Number     7\n",
      "Marital Status       0\n",
      "Occupation           2\n",
      "Relationship         0\n",
      "Race                 0\n",
      "Gender               0\n",
      "Capital Gain         0\n",
      "Capital Loss         0\n",
      "Hours/Week           5\n",
      "Counrty              0\n",
      "Income               0\n",
      "dtype: int64\n"
     ]
    }
   ],
   "source": [
    "#Finding total number of missing values within each columns\n",
    "print(df.isnull().sum())"
   ]
  },
  {
   "cell_type": "code",
   "execution_count": 4,
   "metadata": {},
   "outputs": [
    {
     "name": "stdout",
     "output_type": "stream",
     "text": [
      "count    32551.000000\n",
      "mean        38.586802\n",
      "std         13.665623\n",
      "min         17.000000\n",
      "25%         28.000000\n",
      "50%         37.000000\n",
      "75%         48.000000\n",
      "max        164.000000\n",
      "Name: Age, dtype: float64\n"
     ]
    },
    {
     "data": {
      "text/plain": [
       "<matplotlib.axes._subplots.AxesSubplot at 0x1f431763188>"
      ]
     },
     "execution_count": 4,
     "metadata": {},
     "output_type": "execute_result"
    },
    {
     "data": {
      "image/png": "[encoded data removed]",
      "text/plain": [
       "<Figure size 432x288 with 1 Axes>"
      ]
     },
     "metadata": {
      "needs_background": "light"
     },
     "output_type": "display_data"
    }
   ],
   "source": [
    "#---------AGE---------------\n",
    "# Descriptive Statistics\n",
    "print(df['Age'].describe())\n",
    "sns.boxplot(y=df['Age'])"
   ]
  },
  {
   "cell_type": "code",
   "execution_count": 5,
   "metadata": {},
   "outputs": [
    {
     "data": {
      "text/plain": [
       "False"
      ]
     },
     "execution_count": 5,
     "metadata": {},
     "output_type": "execute_result"
    }
   ],
   "source": [
    "# Replacing missing values in Age with the mean value\n",
    "df['Age'].fillna(df['Age'].mean(),inplace=True)\n",
    "df['Age'].isnull().any()"
   ]
  },
  {
   "cell_type": "code",
   "execution_count": 6,
   "metadata": {},
   "outputs": [
    {
     "data": {
      "text/plain": [
       "<matplotlib.axes._subplots.AxesSubplot at 0x1f431a8ac48>"
      ]
     },
     "execution_count": 6,
     "metadata": {},
     "output_type": "execute_result"
    },
    {
     "data": {
      "image/png": "[encoded data removed]",
      "text/plain": [
       "<Figure size 432x288 with 1 Axes>"
      ]
     },
     "metadata": {
      "needs_background": "light"
     },
     "output_type": "display_data"
    }
   ],
   "source": [
    "#Frequency Distribution on AGE \n",
    "sns.distplot(df.Age,kde=False,bins=10)"
   ]
  },
  {
   "cell_type": "code",
   "execution_count": 7,
   "metadata": {},
   "outputs": [
    {
     "data": {
      "text/plain": [
       "count      32553\n",
       "unique     21644\n",
       "top       164190\n",
       "freq          13\n",
       "Name: Final Weight, dtype: object"
      ]
     },
     "execution_count": 7,
     "metadata": {},
     "output_type": "execute_result"
    }
   ],
   "source": [
    "# -------------- Final Weight--------------------\n",
    "# Descriptive Statistics\n",
    "df['Final Weight'].describe() \n",
    "# As we can see, the data type of Final Weight is object where as it contains all numeric values "
   ]
  },
  {
   "cell_type": "code",
   "execution_count": 8,
   "metadata": {},
   "outputs": [
    {
     "name": "stdout",
     "output_type": "stream",
     "text": [
      "count    3.255200e+04\n",
      "mean     1.897480e+05\n",
      "std      1.055528e+05\n",
      "min      1.000000e+00\n",
      "25%      1.177962e+05\n",
      "50%      1.783530e+05\n",
      "75%      2.369922e+05\n",
      "max      1.484705e+06\n",
      "Name: Final Weight, dtype: float64\n"
     ]
    },
    {
     "data": {
      "text/plain": [
       "<matplotlib.axes._subplots.AxesSubplot at 0x1f431f93748>"
      ]
     },
     "execution_count": 8,
     "metadata": {},
     "output_type": "execute_result"
    },
    {
     "data": {
      "image/png": "[encoded data removed]",
      "text/plain": [
       "<Figure size 432x288 with 1 Axes>"
      ]
     },
     "metadata": {
      "needs_background": "light"
     },
     "output_type": "display_data"
    }
   ],
   "source": [
    "# Converting to Final Weight feature in the data frame to numeric\n",
    "df['Final Weight'] = pd.to_numeric(df['Final Weight'],errors='coerce')\n",
    "print(df['Final Weight'].describe())\n",
    "sns.boxplot(y=df['Final Weight'])\n",
    "# By analyzing the boxplot, we can see that there are many values that fall away from the maximum value allowed (i.e > 1.5*IQR)\n",
    "# We can infer them as suspected outliers. \n",
    "# Since we are dealing with monetary data & according to the feature description, it would not be a great idea to manipulate such values"
   ]
  },
  {
   "cell_type": "code",
   "execution_count": 9,
   "metadata": {},
   "outputs": [
    {
     "data": {
      "text/plain": [
       "False"
      ]
     },
     "execution_count": 9,
     "metadata": {},
     "output_type": "execute_result"
    }
   ],
   "source": [
    "# Replacing missing values in Final Weight with the mean value\n",
    "df['Final Weight'].fillna(df['Final Weight'].mean(),inplace=True)\n",
    "df['Final Weight'].isnull().any()"
   ]
  },
  {
   "cell_type": "code",
   "execution_count": 10,
   "metadata": {},
   "outputs": [
    {
     "data": {
      "text/plain": [
       "<matplotlib.axes._subplots.AxesSubplot at 0x1f432257cc8>"
      ]
     },
     "execution_count": 10,
     "metadata": {},
     "output_type": "execute_result"
    },
    {
     "data": {
      "image/png": "[encoded data removed]",
      "text/plain": [
       "<Figure size 432x288 with 1 Axes>"
      ]
     },
     "metadata": {
      "needs_background": "light"
     },
     "output_type": "display_data"
    }
   ],
   "source": [
    "#Frequency Distribution on FINAL WEIGHT \n",
    "sns.distplot(df['Final Weight'],kde=False,bins=10)"
   ]
  },
  {
   "cell_type": "code",
   "execution_count": 11,
   "metadata": {},
   "outputs": [
    {
     "name": "stdout",
     "output_type": "stream",
     "text": [
      "count    32554.000000\n",
      "mean        10.100356\n",
      "std          4.027991\n",
      "min          1.000000\n",
      "25%          9.000000\n",
      "50%         10.000000\n",
      "75%         12.000000\n",
      "max        562.000000\n",
      "Name: Education Number, dtype: float64\n"
     ]
    },
    {
     "data": {
      "text/plain": [
       "<matplotlib.axes._subplots.AxesSubplot at 0x1f4322e54c8>"
      ]
     },
     "execution_count": 11,
     "metadata": {},
     "output_type": "execute_result"
    },
    {
     "data": {
      "image/png": "[encoded data removed]",
      "text/plain": [
       "<Figure size 432x288 with 1 Axes>"
      ]
     },
     "metadata": {
      "needs_background": "light"
     },
     "output_type": "display_data"
    }
   ],
   "source": [
    "# ----------------- Education Number --------------------\n",
    "# Descriptive Statistics\n",
    "print(df['Education Number'].describe())\n",
    "sns.boxplot(x=df['Education Number'])\n",
    "# By analyzing the boxplot and descriptive stats data, we can see that there are 2 values that fall away from the maximum value allowed (i.e > 1.5*IQR)\n",
    "# We can consider them as outliers and handle them later"
   ]
  },
  {
   "cell_type": "code",
   "execution_count": 12,
   "metadata": {},
   "outputs": [
    {
     "data": {
      "text/plain": [
       "False"
      ]
     },
     "execution_count": 12,
     "metadata": {},
     "output_type": "execute_result"
    }
   ],
   "source": [
    "# Replacing missing values in Education Number with the mean value\n",
    "df['Education Number'].fillna(df['Education Number'].mean(),inplace=True)\n",
    "df['Education Number'].isnull().any()"
   ]
  },
  {
   "cell_type": "code",
   "execution_count": 13,
   "metadata": {},
   "outputs": [
    {
     "data": {
      "text/plain": [
       "<matplotlib.axes._subplots.AxesSubplot at 0x1f432345a48>"
      ]
     },
     "execution_count": 13,
     "metadata": {},
     "output_type": "execute_result"
    },
    {
     "data": {
      "image/png": "[encoded data removed]",
      "text/plain": [
       "<Figure size 432x288 with 1 Axes>"
      ]
     },
     "metadata": {
      "needs_background": "light"
     },
     "output_type": "display_data"
    }
   ],
   "source": [
    "#Frequency Distribution on EDUCATION NUMBER\n",
    "sns.distplot(df['Education Number'],kde=False)"
   ]
  },
  {
   "cell_type": "code",
   "execution_count": 14,
   "metadata": {},
   "outputs": [
    {
     "name": "stdout",
     "output_type": "stream",
     "text": [
      "count    32561.000000\n",
      "mean      1077.648813\n",
      "std       7385.292089\n",
      "min         -1.000000\n",
      "25%          0.000000\n",
      "50%          0.000000\n",
      "75%          0.000000\n",
      "max      99999.000000\n",
      "Name: Capital Gain, dtype: float64\n"
     ]
    },
    {
     "data": {
      "text/plain": [
       "<matplotlib.axes._subplots.AxesSubplot at 0x1f43243fd08>"
      ]
     },
     "execution_count": 14,
     "metadata": {},
     "output_type": "execute_result"
    },
    {
     "data": {
      "image/png": "[encoded data removed]",
      "text/plain": [
       "<Figure size 432x288 with 1 Axes>"
      ]
     },
     "metadata": {
      "needs_background": "light"
     },
     "output_type": "display_data"
    }
   ],
   "source": [
    "# ---------------Capital Gain-----------------\n",
    "# Descriptive Statistics\n",
    "print(df['Capital Gain'].describe())\n",
    "# From the descriptive statistics, we can see that the min value is negative, which mostly infers Capital Loss.\n",
    "# But since we have a separate feature for Capital Loss, it is very much important we handle such negative values.\n",
    "sns.boxplot(y=df['Capital Gain'])\n",
    "# By analyzing the boxplot, we can see that there are many values that fall away from the maximum value allowed (i.e > 1.5*IQR)\n",
    "# We can infer them as suspected outliers. \n",
    "# Since we are dealing with monetary data & according to the feature description, it would not be a great idea to manipulate such values"
   ]
  },
  {
   "cell_type": "code",
   "execution_count": 15,
   "metadata": {},
   "outputs": [
    {
     "data": {
      "text/plain": [
       "False"
      ]
     },
     "execution_count": 15,
     "metadata": {},
     "output_type": "execute_result"
    }
   ],
   "source": [
    "df['Capital Gain'].fillna(0,inplace=True)\n",
    "df['Capital Gain'].isnull().any()"
   ]
  },
  {
   "cell_type": "code",
   "execution_count": 16,
   "metadata": {},
   "outputs": [
    {
     "data": {
      "text/plain": [
       "<matplotlib.axes._subplots.AxesSubplot at 0x1f43249c2c8>"
      ]
     },
     "execution_count": 16,
     "metadata": {},
     "output_type": "execute_result"
    },
    {
     "data": {
      "image/png": "[encoded data removed]",
      "text/plain": [
       "<Figure size 432x288 with 1 Axes>"
      ]
     },
     "metadata": {
      "needs_background": "light"
     },
     "output_type": "display_data"
    }
   ],
   "source": [
    "#Frequency Distribution of EDUCATION NUMBER\n",
    "sns.distplot(df['Capital Gain'],kde=False,bins=10)"
   ]
  },
  {
   "cell_type": "code",
   "execution_count": 17,
   "metadata": {},
   "outputs": [
    {
     "name": "stdout",
     "output_type": "stream",
     "text": [
      "count    32561.000000\n",
      "mean        87.303830\n",
      "std        402.960219\n",
      "min          0.000000\n",
      "25%          0.000000\n",
      "50%          0.000000\n",
      "75%          0.000000\n",
      "max       4356.000000\n",
      "Name: Capital Loss, dtype: float64\n"
     ]
    },
    {
     "data": {
      "text/plain": [
       "<matplotlib.axes._subplots.AxesSubplot at 0x1f4323d7788>"
      ]
     },
     "execution_count": 17,
     "metadata": {},
     "output_type": "execute_result"
    },
    {
     "data": {
      "image/png": "[encoded data removed]",
      "text/plain": [
       "<Figure size 432x288 with 1 Axes>"
      ]
     },
     "metadata": {
      "needs_background": "light"
     },
     "output_type": "display_data"
    }
   ],
   "source": [
    "# --------------- Capital Loss --------------\n",
    "# Descriptive Statistics\n",
    "print(df['Capital Loss'].describe())\n",
    "sns.boxplot(y=df['Capital Loss'])\n",
    "# By analyzing the boxplot, we can see that there are many values that fall away from the maximum value allowed (i.e > 1.5*IQR)\n",
    "# We can infer them as suspected outliers. \n",
    "# Since we are dealing with monetary data & according to the feature description, it would not be a great idea to manipulate such values"
   ]
  },
  {
   "cell_type": "code",
   "execution_count": 18,
   "metadata": {},
   "outputs": [
    {
     "data": {
      "text/plain": [
       "<matplotlib.axes._subplots.AxesSubplot at 0x1f432580708>"
      ]
     },
     "execution_count": 18,
     "metadata": {},
     "output_type": "execute_result"
    },
    {
     "data": {
      "image/png": "[encoded data removed]",
      "text/plain": [
       "<Figure size 432x288 with 1 Axes>"
      ]
     },
     "metadata": {
      "needs_background": "light"
     },
     "output_type": "display_data"
    }
   ],
   "source": [
    "#Frequency Distribution of CAPITAL LOSS\n",
    "sns.distplot(df['Capital Loss'],kde=False,bins=10)"
   ]
  },
  {
   "cell_type": "code",
   "execution_count": 19,
   "metadata": {},
   "outputs": [
    {
     "name": "stdout",
     "output_type": "stream",
     "text": [
      "count    32556.000000\n",
      "mean        40.437431\n",
      "std         12.348218\n",
      "min          1.000000\n",
      "25%         40.000000\n",
      "50%         40.000000\n",
      "75%         45.000000\n",
      "max         99.000000\n",
      "Name: Hours/Week, dtype: float64\n"
     ]
    },
    {
     "data": {
      "text/plain": [
       "<matplotlib.axes._subplots.AxesSubplot at 0x1f432603f08>"
      ]
     },
     "execution_count": 19,
     "metadata": {},
     "output_type": "execute_result"
    },
    {
     "data": {
      "image/png": "[encoded data removed]",
      "text/plain": [
       "<Figure size 432x288 with 1 Axes>"
      ]
     },
     "metadata": {
      "needs_background": "light"
     },
     "output_type": "display_data"
    }
   ],
   "source": [
    "# ----------- Hours Per Week -----------------\n",
    "# Descriptive Statistics\n",
    "print(df['Hours/Week'].describe())\n",
    "sns.boxplot(y=df['Hours/Week'])"
   ]
  },
  {
   "cell_type": "code",
   "execution_count": 20,
   "metadata": {},
   "outputs": [
    {
     "data": {
      "text/plain": [
       "False"
      ]
     },
     "execution_count": 20,
     "metadata": {},
     "output_type": "execute_result"
    }
   ],
   "source": [
    "# Replacing missing values in Hours Per Week with the mean value\n",
    "df['Hours/Week'].fillna(df['Hours/Week'].mean(),inplace=True)\n",
    "df['Hours/Week'].isnull().any()"
   ]
  },
  {
   "cell_type": "code",
   "execution_count": 21,
   "metadata": {},
   "outputs": [
    {
     "data": {
      "text/plain": [
       "<matplotlib.axes._subplots.AxesSubplot at 0x1f432660bc8>"
      ]
     },
     "execution_count": 21,
     "metadata": {},
     "output_type": "execute_result"
    },
    {
     "data": {
      "image/png": "[encoded data removed]",
      "text/plain": [
       "<Figure size 432x288 with 1 Axes>"
      ]
     },
     "metadata": {
      "needs_background": "light"
     },
     "output_type": "display_data"
    }
   ],
   "source": [
    "#Frequency Distribution of HOURS PER WEEK\n",
    "sns.distplot(df['Hours/Week'],kde=False,bins=10)"
   ]
  },
  {
   "cell_type": "code",
   "execution_count": 22,
   "metadata": {},
   "outputs": [
    {
     "data": {
      "text/plain": [
       "Age                 False\n",
       "Work Class           True\n",
       "Final Weight        False\n",
       "Education            True\n",
       "Education Number    False\n",
       "Marital Status      False\n",
       "Occupation           True\n",
       "Relationship        False\n",
       "Race                False\n",
       "Gender              False\n",
       "Capital Gain        False\n",
       "Capital Loss        False\n",
       "Hours/Week          False\n",
       "Counrty             False\n",
       "Income              False\n",
       "dtype: bool"
      ]
     },
     "execution_count": 22,
     "metadata": {},
     "output_type": "execute_result"
    }
   ],
   "source": [
    "# Checking if we have efficiently replaced all the missing values in numerical attributes\n",
    "df.isnull().any()"
   ]
  },
  {
   "cell_type": "markdown",
   "metadata": {},
   "source": [
    "### 2. Handling Outliers "
   ]
  },
  {
   "cell_type": "code",
   "execution_count": 23,
   "metadata": {},
   "outputs": [
    {
     "data": {
      "text/plain": [
       "<matplotlib.axes._subplots.AxesSubplot at 0x1f43243f7c8>"
      ]
     },
     "execution_count": 23,
     "metadata": {},
     "output_type": "execute_result"
    },
    {
     "data": {
      "image/png": "[encoded data removed]",
      "text/plain": [
       "<Figure size 432x288 with 1 Axes>"
      ]
     },
     "metadata": {
      "needs_background": "light"
     },
     "output_type": "display_data"
    }
   ],
   "source": [
    "# Handling Outliers in Age\n",
    "# Since we have many entries that do not satify the min and max criteria of box plot, we would allow them to remain in our dataset.\n",
    "# We are dealing with census data, and there is a possibility of having data about individuals having age more the 80.\n",
    "# But again, it is very important that we handle records having values like 120,160 or >100\n",
    "df.loc[df['Age'] > 100 , 'Age'] = df['Age'].mean()\n",
    "df.Age.describe()\n",
    "sns.boxplot(y=df['Age'])"
   ]
  },
  {
   "cell_type": "code",
   "execution_count": 24,
   "metadata": {},
   "outputs": [
    {
     "data": {
      "text/plain": [
       "<matplotlib.axes._subplots.AxesSubplot at 0x1f432776b08>"
      ]
     },
     "execution_count": 24,
     "metadata": {},
     "output_type": "execute_result"
    },
    {
     "data": {
      "image/png": "[encoded data removed]",
      "text/plain": [
       "<Figure size 432x288 with 1 Axes>"
      ]
     },
     "metadata": {
      "needs_background": "light"
     },
     "output_type": "display_data"
    }
   ],
   "source": [
    "# Handling Outliers in Education Number based on IQR\n",
    "Q1 = df['Education Number'].quantile(0.25)\n",
    "Q3 = df['Education Number'].quantile(0.75)\n",
    "IQR = Q3 - Q1\n",
    "LowerLimit = Q1 - 1.5 * IQR\n",
    "UpperLimit = Q3 + 1.5 * IQR\n",
    "Mode = df['Education Number'].mode()\n",
    "df.loc[(df['Education Number'] < LowerLimit) | (df['Education Number'] > UpperLimit) , 'Education Number'] = 9\n",
    "df['Education Number'].describe()\n",
    "sns.boxplot(y=df['Education Number'])\n",
    "# We have successfully managed all the outliers in Education number"
   ]
  },
  {
   "cell_type": "markdown",
   "metadata": {},
   "source": [
    "### 3. Handling incorrectly recorded values "
   ]
  },
  {
   "cell_type": "code",
   "execution_count": 25,
   "metadata": {},
   "outputs": [
    {
     "data": {
      "text/plain": [
       "count    32561.000000\n",
       "mean      1077.648844\n",
       "std       7385.292085\n",
       "min          0.000000\n",
       "25%          0.000000\n",
       "50%          0.000000\n",
       "75%          0.000000\n",
       "max      99999.000000\n",
       "Name: Capital Gain, dtype: float64"
      ]
     },
     "execution_count": 25,
     "metadata": {},
     "output_type": "execute_result"
    }
   ],
   "source": [
    "# Handling negative values in Capital Gain\n",
    "# We saw earlier, that Capital Gain had some negative values. Hence, we would replace it with the most frequent value.\n",
    "# Large values have high influence on the mean and here, it would not be a great idea to replace it with mean.\n",
    "df.loc[df['Capital Gain'] < 0 , 'Capital Gain'] = 0\n",
    "df['Capital Gain'].describe()"
   ]
  },
  {
   "cell_type": "code",
   "execution_count": 26,
   "metadata": {},
   "outputs": [
    {
     "data": {
      "text/html": [
       "<div>\n",
       "<style scoped>\n",
       "    .dataframe tbody tr th:only-of-type {\n",
       "        vertical-align: middle;\n",
       "    }\n",
       "\n",
       "    .dataframe tbody tr th {\n",
       "        vertical-align: top;\n",
       "    }\n",
       "\n",
       "    .dataframe thead th {\n",
       "        text-align: right;\n",
       "    }\n",
       "</style>\n",
       "<table border=\"1\" class=\"dataframe\">\n",
       "  <thead>\n",
       "    <tr style=\"text-align: right;\">\n",
       "      <th></th>\n",
       "      <th>Age</th>\n",
       "      <th>Work Class</th>\n",
       "      <th>Final Weight</th>\n",
       "      <th>Education</th>\n",
       "      <th>Education Number</th>\n",
       "      <th>Marital Status</th>\n",
       "      <th>Occupation</th>\n",
       "      <th>Relationship</th>\n",
       "      <th>Race</th>\n",
       "      <th>Gender</th>\n",
       "      <th>Capital Gain</th>\n",
       "      <th>Capital Loss</th>\n",
       "      <th>Hours/Week</th>\n",
       "      <th>Counrty</th>\n",
       "      <th>Income</th>\n",
       "    </tr>\n",
       "  </thead>\n",
       "  <tbody>\n",
       "    <tr>\n",
       "      <td>0</td>\n",
       "      <td>19.0</td>\n",
       "      <td>Private</td>\n",
       "      <td>192453.0</td>\n",
       "      <td>Some-college</td>\n",
       "      <td>9.0</td>\n",
       "      <td>Never-married</td>\n",
       "      <td>Other-service</td>\n",
       "      <td>Other-relative</td>\n",
       "      <td>White</td>\n",
       "      <td>Female</td>\n",
       "      <td>0</td>\n",
       "      <td>0</td>\n",
       "      <td>25.0</td>\n",
       "      <td>United-States</td>\n",
       "      <td>&lt;=50K</td>\n",
       "    </tr>\n",
       "    <tr>\n",
       "      <td>1</td>\n",
       "      <td>26.0</td>\n",
       "      <td>Private</td>\n",
       "      <td>167350.0</td>\n",
       "      <td>HS-grad</td>\n",
       "      <td>9.0</td>\n",
       "      <td>Never-married</td>\n",
       "      <td>Other-service</td>\n",
       "      <td>Other-relative</td>\n",
       "      <td>White</td>\n",
       "      <td>Male</td>\n",
       "      <td>0</td>\n",
       "      <td>0</td>\n",
       "      <td>30.0</td>\n",
       "      <td>United-States</td>\n",
       "      <td>&lt;=50K</td>\n",
       "    </tr>\n",
       "    <tr>\n",
       "      <td>2</td>\n",
       "      <td>40.0</td>\n",
       "      <td>Private</td>\n",
       "      <td>193524.0</td>\n",
       "      <td>Doctorate</td>\n",
       "      <td>16.0</td>\n",
       "      <td>Married-civ-spouse</td>\n",
       "      <td>Prof-specialty</td>\n",
       "      <td>Husband</td>\n",
       "      <td>White</td>\n",
       "      <td>Male</td>\n",
       "      <td>0</td>\n",
       "      <td>0</td>\n",
       "      <td>60.0</td>\n",
       "      <td>United-States</td>\n",
       "      <td>&gt;50K</td>\n",
       "    </tr>\n",
       "    <tr>\n",
       "      <td>3</td>\n",
       "      <td>42.0</td>\n",
       "      <td>Private</td>\n",
       "      <td>116632.0</td>\n",
       "      <td>Doctorate</td>\n",
       "      <td>16.0</td>\n",
       "      <td>Married-civ-spouse</td>\n",
       "      <td>Prof-specialty</td>\n",
       "      <td>Husband</td>\n",
       "      <td>White</td>\n",
       "      <td>Male</td>\n",
       "      <td>0</td>\n",
       "      <td>0</td>\n",
       "      <td>45.0</td>\n",
       "      <td>United-States</td>\n",
       "      <td>&gt;50K</td>\n",
       "    </tr>\n",
       "    <tr>\n",
       "      <td>4</td>\n",
       "      <td>43.0</td>\n",
       "      <td>Federal-gov</td>\n",
       "      <td>410867.0</td>\n",
       "      <td>Doctorate</td>\n",
       "      <td>16.0</td>\n",
       "      <td>Never-married</td>\n",
       "      <td>Prof-specialty</td>\n",
       "      <td>Not-in-family</td>\n",
       "      <td>White</td>\n",
       "      <td>Female</td>\n",
       "      <td>0</td>\n",
       "      <td>0</td>\n",
       "      <td>50.0</td>\n",
       "      <td>United-States</td>\n",
       "      <td>&gt;50K</td>\n",
       "    </tr>\n",
       "  </tbody>\n",
       "</table>\n",
       "</div>"
      ],
      "text/plain": [
       "    Age    Work Class  Final Weight      Education  Education Number  \\\n",
       "0  19.0       Private      192453.0   Some-college               9.0   \n",
       "1  26.0       Private      167350.0        HS-grad               9.0   \n",
       "2  40.0       Private      193524.0      Doctorate              16.0   \n",
       "3  42.0       Private      116632.0      Doctorate              16.0   \n",
       "4  43.0   Federal-gov      410867.0      Doctorate              16.0   \n",
       "\n",
       "        Marital Status       Occupation     Relationship    Race   Gender  \\\n",
       "0        Never-married    Other-service   Other-relative   White   Female   \n",
       "1        Never-married    Other-service   Other-relative   White     Male   \n",
       "2   Married-civ-spouse   Prof-specialty          Husband   White     Male   \n",
       "3   Married-civ-spouse   Prof-specialty          Husband   White     Male   \n",
       "4        Never-married   Prof-specialty    Not-in-family   White   Female   \n",
       "\n",
       "   Capital Gain  Capital Loss  Hours/Week         Counrty  Income  \n",
       "0             0             0        25.0   United-States   <=50K  \n",
       "1             0             0        30.0   United-States   <=50K  \n",
       "2             0             0        60.0   United-States    >50K  \n",
       "3             0             0        45.0   United-States    >50K  \n",
       "4             0             0        50.0   United-States    >50K  "
      ]
     },
     "execution_count": 26,
     "metadata": {},
     "output_type": "execute_result"
    }
   ],
   "source": [
    "df.head(5)"
   ]
  },
  {
   "cell_type": "markdown",
   "metadata": {},
   "source": [
    "## Categorical Attributes "
   ]
  },
  {
   "cell_type": "code",
   "execution_count": 27,
   "metadata": {},
   "outputs": [
    {
     "name": "stdout",
     "output_type": "stream",
     "text": [
      "True\n",
      "count        32556\n",
      "unique           9\n",
      "top        Private\n",
      "freq         22694\n",
      "Name: Work Class, dtype: object\n"
     ]
    }
   ],
   "source": [
    "#------------ Work Class -----------\n",
    "# Checking for null values and descriptive statistics\n",
    "print(df['Work Class'].isnull().any())\n",
    "print(df['Work Class'].describe())"
   ]
  },
  {
   "cell_type": "code",
   "execution_count": 28,
   "metadata": {},
   "outputs": [
    {
     "data": {
      "text/plain": [
       "array([' Private', ' Federal-gov', ' Self-emp-not-inc', ' State-gov',\n",
       "       ' Self-emp-inc', ' ?', ' Local-gov', nan, ' Without-pay',\n",
       "       ' Never-worked'], dtype=object)"
      ]
     },
     "execution_count": 28,
     "metadata": {},
     "output_type": "execute_result"
    }
   ],
   "source": [
    "df['Work Class'].unique()\n",
    "# There are some nan values along with some incorrectly recorded values like '?'"
   ]
  },
  {
   "cell_type": "code",
   "execution_count": 29,
   "metadata": {},
   "outputs": [
    {
     "data": {
      "text/plain": [
       "array([' Private', ' Federal-gov', ' Self-emp-not-inc', ' State-gov',\n",
       "       ' Self-emp-inc', ' Local-gov', ' Without-pay', ' Never-worked'],\n",
       "      dtype=object)"
      ]
     },
     "execution_count": 29,
     "metadata": {},
     "output_type": "execute_result"
    }
   ],
   "source": [
    "# Replacing incorrect data or missing data with value having the most count in the dataset i.e PRIVATE in this case\n",
    "df.loc[df['Work Class'] == \" ?\", 'Work Class'  ] = \" Private\"\n",
    "df['Work Class'].fillna(\" Private\",inplace=True)\n",
    "df['Work Class'].unique()"
   ]
  },
  {
   "cell_type": "code",
   "execution_count": 30,
   "metadata": {},
   "outputs": [
    {
     "data": {
      "image/png": "[encoded data removed]",
      "text/plain": [
       "<Figure size 360x360 with 1 Axes>"
      ]
     },
     "metadata": {
      "needs_background": "light"
     },
     "output_type": "display_data"
    }
   ],
   "source": [
    "sns.catplot(x=\"Work Class\", kind=\"count\", palette=\"ch:.10\",data=df);"
   ]
  },
  {
   "cell_type": "code",
   "execution_count": 31,
   "metadata": {},
   "outputs": [
    {
     "data": {
      "text/html": [
       "<div>\n",
       "<style scoped>\n",
       "    .dataframe tbody tr th:only-of-type {\n",
       "        vertical-align: middle;\n",
       "    }\n",
       "\n",
       "    .dataframe tbody tr th {\n",
       "        vertical-align: top;\n",
       "    }\n",
       "\n",
       "    .dataframe thead th {\n",
       "        text-align: right;\n",
       "    }\n",
       "</style>\n",
       "<table border=\"1\" class=\"dataframe\">\n",
       "  <thead>\n",
       "    <tr style=\"text-align: right;\">\n",
       "      <th></th>\n",
       "      <th>Age</th>\n",
       "      <th>Work Class</th>\n",
       "      <th>Final Weight</th>\n",
       "      <th>Education Number</th>\n",
       "      <th>Marital Status</th>\n",
       "      <th>Occupation</th>\n",
       "      <th>Relationship</th>\n",
       "      <th>Race</th>\n",
       "      <th>Gender</th>\n",
       "      <th>Capital Gain</th>\n",
       "      <th>Capital Loss</th>\n",
       "      <th>Hours/Week</th>\n",
       "      <th>Counrty</th>\n",
       "      <th>Income</th>\n",
       "    </tr>\n",
       "  </thead>\n",
       "  <tbody>\n",
       "    <tr>\n",
       "      <td>0</td>\n",
       "      <td>19.0</td>\n",
       "      <td>Private</td>\n",
       "      <td>192453.0</td>\n",
       "      <td>9.0</td>\n",
       "      <td>Never-married</td>\n",
       "      <td>Other-service</td>\n",
       "      <td>Other-relative</td>\n",
       "      <td>White</td>\n",
       "      <td>Female</td>\n",
       "      <td>0</td>\n",
       "      <td>0</td>\n",
       "      <td>25.0</td>\n",
       "      <td>United-States</td>\n",
       "      <td>&lt;=50K</td>\n",
       "    </tr>\n",
       "    <tr>\n",
       "      <td>1</td>\n",
       "      <td>26.0</td>\n",
       "      <td>Private</td>\n",
       "      <td>167350.0</td>\n",
       "      <td>9.0</td>\n",
       "      <td>Never-married</td>\n",
       "      <td>Other-service</td>\n",
       "      <td>Other-relative</td>\n",
       "      <td>White</td>\n",
       "      <td>Male</td>\n",
       "      <td>0</td>\n",
       "      <td>0</td>\n",
       "      <td>30.0</td>\n",
       "      <td>United-States</td>\n",
       "      <td>&lt;=50K</td>\n",
       "    </tr>\n",
       "    <tr>\n",
       "      <td>2</td>\n",
       "      <td>40.0</td>\n",
       "      <td>Private</td>\n",
       "      <td>193524.0</td>\n",
       "      <td>16.0</td>\n",
       "      <td>Married-civ-spouse</td>\n",
       "      <td>Prof-specialty</td>\n",
       "      <td>Husband</td>\n",
       "      <td>White</td>\n",
       "      <td>Male</td>\n",
       "      <td>0</td>\n",
       "      <td>0</td>\n",
       "      <td>60.0</td>\n",
       "      <td>United-States</td>\n",
       "      <td>&gt;50K</td>\n",
       "    </tr>\n",
       "    <tr>\n",
       "      <td>3</td>\n",
       "      <td>42.0</td>\n",
       "      <td>Private</td>\n",
       "      <td>116632.0</td>\n",
       "      <td>16.0</td>\n",
       "      <td>Married-civ-spouse</td>\n",
       "      <td>Prof-specialty</td>\n",
       "      <td>Husband</td>\n",
       "      <td>White</td>\n",
       "      <td>Male</td>\n",
       "      <td>0</td>\n",
       "      <td>0</td>\n",
       "      <td>45.0</td>\n",
       "      <td>United-States</td>\n",
       "      <td>&gt;50K</td>\n",
       "    </tr>\n",
       "    <tr>\n",
       "      <td>4</td>\n",
       "      <td>43.0</td>\n",
       "      <td>Federal-gov</td>\n",
       "      <td>410867.0</td>\n",
       "      <td>16.0</td>\n",
       "      <td>Never-married</td>\n",
       "      <td>Prof-specialty</td>\n",
       "      <td>Not-in-family</td>\n",
       "      <td>White</td>\n",
       "      <td>Female</td>\n",
       "      <td>0</td>\n",
       "      <td>0</td>\n",
       "      <td>50.0</td>\n",
       "      <td>United-States</td>\n",
       "      <td>&gt;50K</td>\n",
       "    </tr>\n",
       "  </tbody>\n",
       "</table>\n",
       "</div>"
      ],
      "text/plain": [
       "    Age    Work Class  Final Weight  Education Number       Marital Status  \\\n",
       "0  19.0       Private      192453.0               9.0        Never-married   \n",
       "1  26.0       Private      167350.0               9.0        Never-married   \n",
       "2  40.0       Private      193524.0              16.0   Married-civ-spouse   \n",
       "3  42.0       Private      116632.0              16.0   Married-civ-spouse   \n",
       "4  43.0   Federal-gov      410867.0              16.0        Never-married   \n",
       "\n",
       "        Occupation     Relationship    Race   Gender  Capital Gain  \\\n",
       "0    Other-service   Other-relative   White   Female             0   \n",
       "1    Other-service   Other-relative   White     Male             0   \n",
       "2   Prof-specialty          Husband   White     Male             0   \n",
       "3   Prof-specialty          Husband   White     Male             0   \n",
       "4   Prof-specialty    Not-in-family   White   Female             0   \n",
       "\n",
       "   Capital Loss  Hours/Week         Counrty  Income  \n",
       "0             0        25.0   United-States   <=50K  \n",
       "1             0        30.0   United-States   <=50K  \n",
       "2             0        60.0   United-States    >50K  \n",
       "3             0        45.0   United-States    >50K  \n",
       "4             0        50.0   United-States    >50K  "
      ]
     },
     "execution_count": 31,
     "metadata": {},
     "output_type": "execute_result"
    }
   ],
   "source": [
    "# ------------- Education ------------\n",
    "# Since we already have Education Number feature, we can drop Education attribute. Otherwise it will increase model complexity\n",
    "df = df.drop('Education',axis=1)\n",
    "df.head(5)"
   ]
  },
  {
   "cell_type": "code",
   "execution_count": 32,
   "metadata": {},
   "outputs": [
    {
     "name": "stdout",
     "output_type": "stream",
     "text": [
      "False\n",
      "count                   32561\n",
      "unique                      7\n",
      "top        Married-civ-spouse\n",
      "freq                    14976\n",
      "Name: Marital Status, dtype: object\n"
     ]
    }
   ],
   "source": [
    "# ----------- Marital Status -----------\n",
    "# Checking for null values and descriptive statistics\n",
    "print(df['Marital Status'].isnull().any())\n",
    "print(df['Marital Status'].describe())"
   ]
  },
  {
   "cell_type": "code",
   "execution_count": 33,
   "metadata": {},
   "outputs": [
    {
     "data": {
      "text/plain": [
       "array([' Never-married', ' Married-civ-spouse', ' Separated', ' Divorced',\n",
       "       ' Married-spouse-absent', ' Widowed', ' Married-AF-spouse'],\n",
       "      dtype=object)"
      ]
     },
     "execution_count": 33,
     "metadata": {},
     "output_type": "execute_result"
    }
   ],
   "source": [
    "df['Marital Status'].unique()"
   ]
  },
  {
   "cell_type": "code",
   "execution_count": 34,
   "metadata": {},
   "outputs": [
    {
     "data": {
      "text/plain": [
       "array([' Independent', ' Married'], dtype=object)"
      ]
     },
     "execution_count": 34,
     "metadata": {},
     "output_type": "execute_result"
    }
   ],
   "source": [
    "# Replacing all instances of 'Married______' status with common married status. Similarly, with other status\n",
    "df.loc[(df['Marital Status'] == \" Married-civ-spouse\") |\n",
    "       (df['Marital Status'] == \" Married-spouse-absent\") |\n",
    "       (df['Marital Status'] == \" Married-AF-spouse\"), 'Marital Status'  ] = \" Married\"\n",
    "df.loc[df['Marital Status'] != \" Married\" , 'Marital Status'  ] = \" Independent\"\n",
    "df['Marital Status'].unique()"
   ]
  },
  {
   "cell_type": "code",
   "execution_count": 35,
   "metadata": {},
   "outputs": [
    {
     "data": {
      "image/png": "[encoded data removed]",
      "text/plain": [
       "<Figure size 360x360 with 1 Axes>"
      ]
     },
     "metadata": {
      "needs_background": "light"
     },
     "output_type": "display_data"
    }
   ],
   "source": [
    "sns.catplot(x=\"Marital Status\", kind=\"count\", palette=\"ch:.10\",data=df);"
   ]
  },
  {
   "cell_type": "code",
   "execution_count": 36,
   "metadata": {},
   "outputs": [
    {
     "name": "stdout",
     "output_type": "stream",
     "text": [
      "True\n",
      "count               32559\n",
      "unique                 15\n",
      "top        Prof-specialty\n",
      "freq                 4140\n",
      "Name: Occupation, dtype: object\n"
     ]
    }
   ],
   "source": [
    "# ------------ Occupation ------------------\n",
    "# Checking for null values and descriptive statistics\n",
    "print(df['Occupation'].isnull().any())\n",
    "print(df['Occupation'].describe())"
   ]
  },
  {
   "cell_type": "code",
   "execution_count": 37,
   "metadata": {},
   "outputs": [
    {
     "data": {
      "text/plain": [
       "array([' Other-service', ' Prof-specialty', ' Exec-managerial',\n",
       "       ' Adm-clerical', ' Sales', ' Tech-support', ' Craft-repair',\n",
       "       ' Farming-fishing', ' Transport-moving', ' Machine-op-inspct',\n",
       "       ' Protective-serv', ' Handlers-cleaners', ' Priv-house-serv',\n",
       "       ' Armed-Forces'], dtype=object)"
      ]
     },
     "execution_count": 37,
     "metadata": {},
     "output_type": "execute_result"
    }
   ],
   "source": [
    "# There are some nan values along with some incorrectly recorded values like '?'\n",
    "# We will replace it most frequent category\n",
    "df['Occupation'].fillna(\" Prof-specialty\",inplace=True)\n",
    "df.loc[df['Occupation'] == \" ?\", 'Occupation'  ] = \" Prof-specialty\"\n",
    "df['Occupation'].unique()"
   ]
  },
  {
   "cell_type": "code",
   "execution_count": 38,
   "metadata": {},
   "outputs": [
    {
     "data": {
      "image/png": "[encoded data removed]",
      "text/plain": [
       "<Figure size 360x360 with 1 Axes>"
      ]
     },
     "metadata": {
      "needs_background": "light"
     },
     "output_type": "display_data"
    }
   ],
   "source": [
    "sns.catplot(x=\"Occupation\", kind=\"count\", palette=\"ch:.10\",data=df);"
   ]
  },
  {
   "cell_type": "code",
   "execution_count": 39,
   "metadata": {},
   "outputs": [
    {
     "name": "stdout",
     "output_type": "stream",
     "text": [
      "False\n",
      "count        32561\n",
      "unique           7\n",
      "top        Husband\n",
      "freq         13190\n",
      "Name: Relationship, dtype: object\n"
     ]
    }
   ],
   "source": [
    "# ------------- Relationship -----------------\n",
    "# Checking for null values and descriptive statistics\n",
    "print(df['Relationship'].isnull().any())\n",
    "print(df['Relationship'].describe())"
   ]
  },
  {
   "cell_type": "code",
   "execution_count": 40,
   "metadata": {},
   "outputs": [
    {
     "data": {
      "text/plain": [
       "array([' Other-relative', ' Husband', ' Not-in-family', ' Own-child',\n",
       "       ' Unmarried', ' Wife', '?'], dtype=object)"
      ]
     },
     "execution_count": 40,
     "metadata": {},
     "output_type": "execute_result"
    }
   ],
   "source": [
    "df['Relationship'].unique()\n",
    "# There are some nan values along with some incorrectly recorded values like '?'"
   ]
  },
  {
   "cell_type": "code",
   "execution_count": 41,
   "metadata": {},
   "outputs": [
    {
     "data": {
      "text/html": [
       "<div>\n",
       "<style scoped>\n",
       "    .dataframe tbody tr th:only-of-type {\n",
       "        vertical-align: middle;\n",
       "    }\n",
       "\n",
       "    .dataframe tbody tr th {\n",
       "        vertical-align: top;\n",
       "    }\n",
       "\n",
       "    .dataframe thead th {\n",
       "        text-align: right;\n",
       "    }\n",
       "</style>\n",
       "<table border=\"1\" class=\"dataframe\">\n",
       "  <thead>\n",
       "    <tr style=\"text-align: right;\">\n",
       "      <th></th>\n",
       "      <th>Age</th>\n",
       "      <th>Work Class</th>\n",
       "      <th>Final Weight</th>\n",
       "      <th>Education Number</th>\n",
       "      <th>Marital Status</th>\n",
       "      <th>Occupation</th>\n",
       "      <th>Relationship</th>\n",
       "      <th>Race</th>\n",
       "      <th>Gender</th>\n",
       "      <th>Capital Gain</th>\n",
       "      <th>Capital Loss</th>\n",
       "      <th>Hours/Week</th>\n",
       "      <th>Counrty</th>\n",
       "      <th>Income</th>\n",
       "    </tr>\n",
       "  </thead>\n",
       "  <tbody>\n",
       "    <tr>\n",
       "      <td>418</td>\n",
       "      <td>38.586802</td>\n",
       "      <td>Private</td>\n",
       "      <td>112763.0</td>\n",
       "      <td>15.0</td>\n",
       "      <td>Married</td>\n",
       "      <td>Prof-specialty</td>\n",
       "      <td>?</td>\n",
       "      <td>White</td>\n",
       "      <td>Female</td>\n",
       "      <td>0</td>\n",
       "      <td>0</td>\n",
       "      <td>40.0</td>\n",
       "      <td>United-States</td>\n",
       "      <td>&gt;50K</td>\n",
       "    </tr>\n",
       "    <tr>\n",
       "      <td>2769</td>\n",
       "      <td>31.000000</td>\n",
       "      <td>Private</td>\n",
       "      <td>156464.0</td>\n",
       "      <td>13.0</td>\n",
       "      <td>Independent</td>\n",
       "      <td>Prof-specialty</td>\n",
       "      <td>?</td>\n",
       "      <td>White</td>\n",
       "      <td>Male</td>\n",
       "      <td>0</td>\n",
       "      <td>0</td>\n",
       "      <td>25.0</td>\n",
       "      <td>United-States</td>\n",
       "      <td>&lt;=50K</td>\n",
       "    </tr>\n",
       "    <tr>\n",
       "      <td>9136</td>\n",
       "      <td>29.000000</td>\n",
       "      <td>Private</td>\n",
       "      <td>271466.0</td>\n",
       "      <td>11.0</td>\n",
       "      <td>Independent</td>\n",
       "      <td>Prof-specialty</td>\n",
       "      <td>?</td>\n",
       "      <td>White</td>\n",
       "      <td>Male</td>\n",
       "      <td>0</td>\n",
       "      <td>0</td>\n",
       "      <td>43.0</td>\n",
       "      <td>United-States</td>\n",
       "      <td>&lt;=50K</td>\n",
       "    </tr>\n",
       "    <tr>\n",
       "      <td>10543</td>\n",
       "      <td>49.000000</td>\n",
       "      <td>Private</td>\n",
       "      <td>81973.0</td>\n",
       "      <td>10.0</td>\n",
       "      <td>Married</td>\n",
       "      <td>Craft-repair</td>\n",
       "      <td>?</td>\n",
       "      <td>Asian-Pac-Islander</td>\n",
       "      <td>Male</td>\n",
       "      <td>0</td>\n",
       "      <td>0</td>\n",
       "      <td>40.0</td>\n",
       "      <td>United-States</td>\n",
       "      <td>&gt;50K</td>\n",
       "    </tr>\n",
       "    <tr>\n",
       "      <td>10597</td>\n",
       "      <td>25.000000</td>\n",
       "      <td>Private</td>\n",
       "      <td>344991.0</td>\n",
       "      <td>10.0</td>\n",
       "      <td>Married</td>\n",
       "      <td>Craft-repair</td>\n",
       "      <td>?</td>\n",
       "      <td>White</td>\n",
       "      <td>Male</td>\n",
       "      <td>0</td>\n",
       "      <td>0</td>\n",
       "      <td>40.0</td>\n",
       "      <td>United-States</td>\n",
       "      <td>&lt;=50K</td>\n",
       "    </tr>\n",
       "    <tr>\n",
       "      <td>17892</td>\n",
       "      <td>24.000000</td>\n",
       "      <td>Private</td>\n",
       "      <td>278130.0</td>\n",
       "      <td>9.0</td>\n",
       "      <td>Independent</td>\n",
       "      <td>Craft-repair</td>\n",
       "      <td>?</td>\n",
       "      <td>White</td>\n",
       "      <td>Male</td>\n",
       "      <td>0</td>\n",
       "      <td>0</td>\n",
       "      <td>40.0</td>\n",
       "      <td>United-States</td>\n",
       "      <td>&lt;=50K</td>\n",
       "    </tr>\n",
       "    <tr>\n",
       "      <td>29911</td>\n",
       "      <td>17.000000</td>\n",
       "      <td>Private</td>\n",
       "      <td>304873.0</td>\n",
       "      <td>6.0</td>\n",
       "      <td>Independent</td>\n",
       "      <td>Prof-specialty</td>\n",
       "      <td>?</td>\n",
       "      <td>White</td>\n",
       "      <td>Female</td>\n",
       "      <td>34095</td>\n",
       "      <td>0</td>\n",
       "      <td>32.0</td>\n",
       "      <td>United-States</td>\n",
       "      <td>&lt;=50K</td>\n",
       "    </tr>\n",
       "    <tr>\n",
       "      <td>31360</td>\n",
       "      <td>54.000000</td>\n",
       "      <td>Self-emp-inc</td>\n",
       "      <td>125417.0</td>\n",
       "      <td>9.0</td>\n",
       "      <td>Married</td>\n",
       "      <td>Machine-op-inspct</td>\n",
       "      <td>?</td>\n",
       "      <td>White</td>\n",
       "      <td>Male</td>\n",
       "      <td>0</td>\n",
       "      <td>0</td>\n",
       "      <td>40.0</td>\n",
       "      <td>United-States</td>\n",
       "      <td>&gt;50K</td>\n",
       "    </tr>\n",
       "  </tbody>\n",
       "</table>\n",
       "</div>"
      ],
      "text/plain": [
       "             Age     Work Class  Final Weight  Education Number  \\\n",
       "418    38.586802        Private      112763.0              15.0   \n",
       "2769   31.000000        Private      156464.0              13.0   \n",
       "9136   29.000000        Private      271466.0              11.0   \n",
       "10543  49.000000        Private       81973.0              10.0   \n",
       "10597  25.000000        Private      344991.0              10.0   \n",
       "17892  24.000000        Private      278130.0               9.0   \n",
       "29911  17.000000        Private      304873.0               6.0   \n",
       "31360  54.000000   Self-emp-inc      125417.0               9.0   \n",
       "\n",
       "      Marital Status          Occupation Relationship                 Race  \\\n",
       "418          Married      Prof-specialty            ?                White   \n",
       "2769     Independent      Prof-specialty            ?                White   \n",
       "9136     Independent      Prof-specialty            ?                White   \n",
       "10543        Married        Craft-repair            ?   Asian-Pac-Islander   \n",
       "10597        Married        Craft-repair            ?                White   \n",
       "17892    Independent        Craft-repair            ?                White   \n",
       "29911    Independent      Prof-specialty            ?                White   \n",
       "31360        Married   Machine-op-inspct            ?                White   \n",
       "\n",
       "        Gender  Capital Gain  Capital Loss  Hours/Week         Counrty  Income  \n",
       "418     Female             0             0        40.0   United-States    >50K  \n",
       "2769      Male             0             0        25.0   United-States   <=50K  \n",
       "9136      Male             0             0        43.0   United-States   <=50K  \n",
       "10543     Male             0             0        40.0   United-States    >50K  \n",
       "10597     Male             0             0        40.0   United-States   <=50K  \n",
       "17892     Male             0             0        40.0   United-States   <=50K  \n",
       "29911   Female         34095             0        32.0   United-States   <=50K  \n",
       "31360     Male             0             0        40.0   United-States    >50K  "
      ]
     },
     "execution_count": 41,
     "metadata": {},
     "output_type": "execute_result"
    }
   ],
   "source": [
    "# In this case, it would not be great idea to just replace the incorrect values with most frequent category\n",
    "# Example : Suppose most frequent category is Husband. But we have to look other entries in the same observation as well. \n",
    "# Replacing entry with Husband where the gender in the same observation is Female does not make sense.\n",
    "# Hence, we will examine other attributes in the same observation before replacing them.\n",
    "df.loc[df['Relationship'] == \"?\"]"
   ]
  },
  {
   "cell_type": "code",
   "execution_count": 42,
   "metadata": {},
   "outputs": [
    {
     "name": "stdout",
     "output_type": "stream",
     "text": [
      " Husband           13190\n",
      " Not-in-family      8304\n",
      " Own-child          5065\n",
      " Unmarried          3446\n",
      " Wife               1567\n",
      " Other-relative      981\n",
      "?                      8\n",
      "Name: Relationship, dtype: int64\n",
      "[' Other-relative' ' Husband' ' Not-in-family' ' Own-child' ' Unmarried'\n",
      " ' Wife']\n"
     ]
    }
   ],
   "source": [
    "# Now we will replace the incorrect relationship status by checking the gender and age in the same row\n",
    "print(df['Relationship'].value_counts())\n",
    "df.loc[(df['Relationship'] == \"?\") & (df['Gender'] == \" Male\"), 'Relationship'  ] = \" Husband\"\n",
    "df.loc[(df['Relationship'] == \"?\") & (df['Gender'] == \" Female\") & (df['Marital Status'] == \" Married\"), 'Relationship'  ] = \" Wife\"\n",
    "df.loc[(df['Relationship'] == \"?\") & (df['Gender'] == \" Female\") & (df['Marital Status'] == \" Independent\") & (df['Age'] < 18 ), 'Relationship'  ] = \" Unmarried\"\n",
    "print(df['Relationship'].unique())"
   ]
  },
  {
   "cell_type": "code",
   "execution_count": 43,
   "metadata": {},
   "outputs": [
    {
     "data": {
      "image/png": "[encoded data removed]",
      "text/plain": [
       "<Figure size 360x360 with 1 Axes>"
      ]
     },
     "metadata": {
      "needs_background": "light"
     },
     "output_type": "display_data"
    }
   ],
   "source": [
    "sns.catplot(x=\"Relationship\", kind=\"count\", palette=\"ch:.10\",data=df);"
   ]
  },
  {
   "cell_type": "code",
   "execution_count": 44,
   "metadata": {},
   "outputs": [
    {
     "name": "stdout",
     "output_type": "stream",
     "text": [
      "False\n",
      "count      32561\n",
      "unique         6\n",
      "top        White\n",
      "freq       27814\n",
      "Name: Race, dtype: object\n"
     ]
    }
   ],
   "source": [
    "# ------------ Race ----------------\n",
    "# Checking for null values and descriptive statistics\n",
    "print(df['Race'].isnull().any())\n",
    "print(df['Race'].describe())"
   ]
  },
  {
   "cell_type": "code",
   "execution_count": 45,
   "metadata": {},
   "outputs": [
    {
     "data": {
      "text/plain": [
       "array([' White', ' Asian-Pac-Islander', ' Black', ' Other',\n",
       "       ' Amer-Indian-Eskimo', '?'], dtype=object)"
      ]
     },
     "execution_count": 45,
     "metadata": {},
     "output_type": "execute_result"
    }
   ],
   "source": [
    "df['Race'].unique()\n",
    "# There are some nan values along with some incorrectly recorded values like '?'\n",
    "# We will replace it most frequent category"
   ]
  },
  {
   "cell_type": "code",
   "execution_count": 46,
   "metadata": {},
   "outputs": [
    {
     "data": {
      "text/plain": [
       "array([' White', ' Asian-Pac-Islander', ' Black', ' Other',\n",
       "       ' Amer-Indian-Eskimo'], dtype=object)"
      ]
     },
     "execution_count": 46,
     "metadata": {},
     "output_type": "execute_result"
    }
   ],
   "source": [
    "df.loc[df['Race'] == \"?\", 'Race'  ] = \" White\"\n",
    "df['Race'].unique()"
   ]
  },
  {
   "cell_type": "code",
   "execution_count": 47,
   "metadata": {},
   "outputs": [
    {
     "data": {
      "image/png": "[encoded data removed]",
      "text/plain": [
       "<Figure size 360x360 with 1 Axes>"
      ]
     },
     "metadata": {
      "needs_background": "light"
     },
     "output_type": "display_data"
    }
   ],
   "source": [
    "sns.catplot(x=\"Race\", kind=\"count\", palette=\"ch:.10\",data=df);"
   ]
  },
  {
   "cell_type": "code",
   "execution_count": 48,
   "metadata": {},
   "outputs": [
    {
     "name": "stdout",
     "output_type": "stream",
     "text": [
      "False\n",
      "count     32561\n",
      "unique        2\n",
      "top        Male\n",
      "freq      21790\n",
      "Name: Gender, dtype: object\n"
     ]
    }
   ],
   "source": [
    "# ------------ Gender -------------\n",
    "# Checking for null values and descriptive statistics\n",
    "print(df['Gender'].isnull().any())\n",
    "print(df['Gender'].describe())"
   ]
  },
  {
   "cell_type": "code",
   "execution_count": 49,
   "metadata": {},
   "outputs": [
    {
     "data": {
      "image/png": "[encoded data removed]",
      "text/plain": [
       "<Figure size 360x360 with 1 Axes>"
      ]
     },
     "metadata": {
      "needs_background": "light"
     },
     "output_type": "display_data"
    }
   ],
   "source": [
    "sns.catplot(x=\"Gender\", kind=\"count\", palette=\"ch:.10\",data=df);"
   ]
  },
  {
   "cell_type": "code",
   "execution_count": 50,
   "metadata": {},
   "outputs": [
    {
     "name": "stdout",
     "output_type": "stream",
     "text": [
      "False\n",
      "count              32561\n",
      "unique                42\n",
      "top        United-States\n",
      "freq               29170\n",
      "Name: Counrty, dtype: object\n"
     ]
    }
   ],
   "source": [
    "# ----------- Country ------------\n",
    "# Checking for null values and descriptive statistics\n",
    "print(df['Counrty'].isnull().any())\n",
    "print(df['Counrty'].describe())"
   ]
  },
  {
   "cell_type": "code",
   "execution_count": 51,
   "metadata": {},
   "outputs": [
    {
     "data": {
      "text/plain": [
       "array([' United-States', ' Taiwan', ' China', ' ?', ' England', ' Canada',\n",
       "       ' India', ' Mexico', ' Iran', ' Germany', ' El-Salvador', ' Italy',\n",
       "       ' Columbia', ' Cuba', ' France', ' South', ' Japan', ' Thailand',\n",
       "       ' Jamaica', ' Poland', ' Hong', ' Vietnam', ' Honduras', ' Greece',\n",
       "       ' Philippines', ' Haiti', ' Laos', ' Dominican-Republic', ' Peru',\n",
       "       ' Nicaragua', ' Ecuador', ' Scotland', ' Trinadad&Tobago',\n",
       "       ' Ireland', ' Portugal', ' Cambodia', ' Puerto-Rico',\n",
       "       ' Outlying-US(Guam-USVI-etc)', ' Yugoslavia', ' Hungary',\n",
       "       ' Guatemala', ' Holand-Netherlands'], dtype=object)"
      ]
     },
     "execution_count": 51,
     "metadata": {},
     "output_type": "execute_result"
    }
   ],
   "source": [
    "df['Counrty'].unique()\n",
    "# There are some nan values along with some incorrectly recorded values like '?'\n",
    "# We will replace it most frequent country"
   ]
  },
  {
   "cell_type": "code",
   "execution_count": 52,
   "metadata": {},
   "outputs": [
    {
     "data": {
      "text/plain": [
       "array([' United-States', ' Taiwan', ' China', ' England', ' Canada',\n",
       "       ' India', ' Mexico', ' Iran', ' Germany', ' El-Salvador', ' Italy',\n",
       "       ' Columbia', ' Cuba', ' France', ' South', ' Japan', ' Thailand',\n",
       "       ' Jamaica', ' Poland', ' Hong', ' Vietnam', ' Honduras', ' Greece',\n",
       "       ' Philippines', ' Haiti', ' Laos', ' Dominican-Republic', ' Peru',\n",
       "       ' Nicaragua', ' Ecuador', ' Scotland', ' Trinadad&Tobago',\n",
       "       ' Ireland', ' Portugal', ' Cambodia', ' Puerto-Rico',\n",
       "       ' Outlying-US(Guam-USVI-etc)', ' Yugoslavia', ' Hungary',\n",
       "       ' Guatemala', ' Holand-Netherlands'], dtype=object)"
      ]
     },
     "execution_count": 52,
     "metadata": {},
     "output_type": "execute_result"
    }
   ],
   "source": [
    "df.loc[df['Counrty'] == \" ?\", 'Counrty'  ] = \" United-States\"\n",
    "df['Counrty'].unique()"
   ]
  },
  {
   "cell_type": "code",
   "execution_count": 53,
   "metadata": {},
   "outputs": [
    {
     "data": {
      "text/plain": [
       "Age                 False\n",
       "Work Class          False\n",
       "Final Weight        False\n",
       "Education Number    False\n",
       "Marital Status      False\n",
       "Occupation          False\n",
       "Relationship        False\n",
       "Race                False\n",
       "Gender              False\n",
       "Capital Gain        False\n",
       "Capital Loss        False\n",
       "Hours/Week          False\n",
       "Counrty             False\n",
       "Income              False\n",
       "dtype: bool"
      ]
     },
     "execution_count": 53,
     "metadata": {},
     "output_type": "execute_result"
    }
   ],
   "source": [
    "# Checking for null values, AGAIN !!!\n",
    "df.isnull().any()"
   ]
  },
  {
   "cell_type": "markdown",
   "metadata": {},
   "source": [
    "# Done!!!"
   ]
  },
  {
   "cell_type": "markdown",
   "metadata": {},
   "source": [
    "##### We have now processed our raw data. So far, we have :\n",
    "##### 1. Handled missing/nan entries\n",
    "##### 2. Handled outliers wherever applicable \n",
    "##### 3. Dropped unnecessary columns\n",
    "##### 4. Visualized frequency distribution\n",
    "##### 5. Handled incorrect entries (?,-ve,etc.)\n"
   ]
  },
  {
   "cell_type": "code",
   "execution_count": 54,
   "metadata": {},
   "outputs": [],
   "source": [
    "# Now, lets write our preprocessed dataframe into a new csv file\n",
    "df.to_csv(r'C:\\Users\\Deep Joshi\\Desktop\\Data Analysis\\Machine Learning\\Income Prediction\\data\\processed\\CensusDataProcessed.csv')"
   ]
  }
 ],
 "metadata": {
  "kernelspec": {
   "display_name": "Python 3",
   "language": "python",
   "name": "python3"
  },
  "language_info": {
   "codemirror_mode": {
    "name": "ipython",
    "version": 3
   },
   "file_extension": ".py",
   "mimetype": "text/x-python",
   "name": "python",
   "nbconvert_exporter": "python",
   "pygments_lexer": "ipython3",
   "version": "3.7.4"
  }
 },
 "nbformat": 4,
 "nbformat_minor": 2
}
